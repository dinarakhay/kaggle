{
  "nbformat": 4,
  "nbformat_minor": 0,
  "metadata": {
    "colab": {
      "provenance": []
    },
    "kernelspec": {
      "name": "python3",
      "display_name": "Python 3"
    },
    "language_info": {
      "name": "python"
    },
    "gpuClass": "standard",
    "accelerator": "TPU"
  },
  "cells": [
    {
      "cell_type": "markdown",
      "source": [
        "## Загрузка данных. Предварительный анализ"
      ],
      "metadata": {
        "id": "sVVQkcZctlri"
      }
    },
    {
      "cell_type": "code",
      "execution_count": 1,
      "metadata": {
        "id": "PGeLfXDFsuxd",
        "colab": {
          "base_uri": "https://localhost:8080/"
        },
        "outputId": "b3635c83-5f2a-4b33-a047-58140eeabaae"
      },
      "outputs": [
        {
          "output_type": "stream",
          "name": "stdout",
          "text": [
            "Drive already mounted at /content/drive; to attempt to forcibly remount, call drive.mount(\"/content/drive\", force_remount=True).\n"
          ]
        }
      ],
      "source": [
        "from google.colab import drive\n",
        "drive.mount('/content/drive')"
      ]
    },
    {
      "cell_type": "code",
      "source": [
        "import pandas as pd\n",
        "import numpy as np"
      ],
      "metadata": {
        "id": "MizqkSe1gMIw"
      },
      "execution_count": 2,
      "outputs": []
    },
    {
      "cell_type": "code",
      "source": [
        "train = pd.read_csv('/content/drive/MyDrive/goodreads_train.csv')\n",
        "train.head()"
      ],
      "metadata": {
        "colab": {
          "base_uri": "https://localhost:8080/",
          "height": 423
        },
        "id": "1wApSLNRebT1",
        "outputId": "dd41e6ee-4ccf-49bb-a705-bee6800de7e4"
      },
      "execution_count": 3,
      "outputs": [
        {
          "output_type": "execute_result",
          "data": {
            "text/plain": [
              "                            user_id   book_id  \\\n",
              "0  8842281e1d1347389f2ab93d60773d4d  18245960   \n",
              "1  8842281e1d1347389f2ab93d60773d4d     16981   \n",
              "2  8842281e1d1347389f2ab93d60773d4d  28684704   \n",
              "3  8842281e1d1347389f2ab93d60773d4d  27161156   \n",
              "4  8842281e1d1347389f2ab93d60773d4d  25884323   \n",
              "\n",
              "                          review_id  rating  \\\n",
              "0  dfdbb7b0eb5a7e4c26d59a937e2e5feb       5   \n",
              "1  a5d2c3628987712d0e05c4f90798eb67       3   \n",
              "2  2ede853b14dc4583f96cf5d120af636f       3   \n",
              "3  ced5675e55cd9d38a524743f5c40996e       0   \n",
              "4  332732725863131279a8e345b63ac33e       4   \n",
              "\n",
              "                                         review_text  \\\n",
              "0  This is a special book. It started slow for ab...   \n",
              "1  Recommended by Don Katz. Avail for free in Dec...   \n",
              "2  A fun, fast paced science fiction thriller. I ...   \n",
              "3  Recommended reading to understand what is goin...   \n",
              "4  I really enjoyed this book, and there is a lot...   \n",
              "\n",
              "                       date_added                    date_updated  \\\n",
              "0  Sun Jul 30 07:44:10 -0700 2017  Wed Aug 30 00:00:26 -0700 2017   \n",
              "1  Mon Dec 05 10:46:44 -0800 2016  Wed Mar 22 11:37:04 -0700 2017   \n",
              "2  Tue Nov 15 11:29:22 -0800 2016  Mon Mar 20 23:40:27 -0700 2017   \n",
              "3  Wed Nov 09 17:37:04 -0800 2016  Wed Nov 09 17:38:20 -0800 2016   \n",
              "4  Mon Apr 25 09:31:23 -0700 2016  Mon Apr 25 09:31:23 -0700 2016   \n",
              "\n",
              "                          read_at                      started_at  n_votes  \\\n",
              "0  Sat Aug 26 12:05:52 -0700 2017  Tue Aug 15 13:23:18 -0700 2017       28   \n",
              "1                             NaN                             NaN        1   \n",
              "2  Sat Mar 18 23:22:42 -0700 2017  Fri Mar 17 23:45:40 -0700 2017       22   \n",
              "3                             NaN                             NaN        5   \n",
              "4  Sun Jun 26 00:00:00 -0700 2016  Sat May 28 00:00:00 -0700 2016        9   \n",
              "\n",
              "   n_comments  \n",
              "0           1  \n",
              "1           0  \n",
              "2           0  \n",
              "3           1  \n",
              "4           1  "
            ],
            "text/html": [
              "\n",
              "  <div id=\"df-39171df7-a1a9-4129-a8c9-b01592f95824\">\n",
              "    <div class=\"colab-df-container\">\n",
              "      <div>\n",
              "<style scoped>\n",
              "    .dataframe tbody tr th:only-of-type {\n",
              "        vertical-align: middle;\n",
              "    }\n",
              "\n",
              "    .dataframe tbody tr th {\n",
              "        vertical-align: top;\n",
              "    }\n",
              "\n",
              "    .dataframe thead th {\n",
              "        text-align: right;\n",
              "    }\n",
              "</style>\n",
              "<table border=\"1\" class=\"dataframe\">\n",
              "  <thead>\n",
              "    <tr style=\"text-align: right;\">\n",
              "      <th></th>\n",
              "      <th>user_id</th>\n",
              "      <th>book_id</th>\n",
              "      <th>review_id</th>\n",
              "      <th>rating</th>\n",
              "      <th>review_text</th>\n",
              "      <th>date_added</th>\n",
              "      <th>date_updated</th>\n",
              "      <th>read_at</th>\n",
              "      <th>started_at</th>\n",
              "      <th>n_votes</th>\n",
              "      <th>n_comments</th>\n",
              "    </tr>\n",
              "  </thead>\n",
              "  <tbody>\n",
              "    <tr>\n",
              "      <th>0</th>\n",
              "      <td>8842281e1d1347389f2ab93d60773d4d</td>\n",
              "      <td>18245960</td>\n",
              "      <td>dfdbb7b0eb5a7e4c26d59a937e2e5feb</td>\n",
              "      <td>5</td>\n",
              "      <td>This is a special book. It started slow for ab...</td>\n",
              "      <td>Sun Jul 30 07:44:10 -0700 2017</td>\n",
              "      <td>Wed Aug 30 00:00:26 -0700 2017</td>\n",
              "      <td>Sat Aug 26 12:05:52 -0700 2017</td>\n",
              "      <td>Tue Aug 15 13:23:18 -0700 2017</td>\n",
              "      <td>28</td>\n",
              "      <td>1</td>\n",
              "    </tr>\n",
              "    <tr>\n",
              "      <th>1</th>\n",
              "      <td>8842281e1d1347389f2ab93d60773d4d</td>\n",
              "      <td>16981</td>\n",
              "      <td>a5d2c3628987712d0e05c4f90798eb67</td>\n",
              "      <td>3</td>\n",
              "      <td>Recommended by Don Katz. Avail for free in Dec...</td>\n",
              "      <td>Mon Dec 05 10:46:44 -0800 2016</td>\n",
              "      <td>Wed Mar 22 11:37:04 -0700 2017</td>\n",
              "      <td>NaN</td>\n",
              "      <td>NaN</td>\n",
              "      <td>1</td>\n",
              "      <td>0</td>\n",
              "    </tr>\n",
              "    <tr>\n",
              "      <th>2</th>\n",
              "      <td>8842281e1d1347389f2ab93d60773d4d</td>\n",
              "      <td>28684704</td>\n",
              "      <td>2ede853b14dc4583f96cf5d120af636f</td>\n",
              "      <td>3</td>\n",
              "      <td>A fun, fast paced science fiction thriller. I ...</td>\n",
              "      <td>Tue Nov 15 11:29:22 -0800 2016</td>\n",
              "      <td>Mon Mar 20 23:40:27 -0700 2017</td>\n",
              "      <td>Sat Mar 18 23:22:42 -0700 2017</td>\n",
              "      <td>Fri Mar 17 23:45:40 -0700 2017</td>\n",
              "      <td>22</td>\n",
              "      <td>0</td>\n",
              "    </tr>\n",
              "    <tr>\n",
              "      <th>3</th>\n",
              "      <td>8842281e1d1347389f2ab93d60773d4d</td>\n",
              "      <td>27161156</td>\n",
              "      <td>ced5675e55cd9d38a524743f5c40996e</td>\n",
              "      <td>0</td>\n",
              "      <td>Recommended reading to understand what is goin...</td>\n",
              "      <td>Wed Nov 09 17:37:04 -0800 2016</td>\n",
              "      <td>Wed Nov 09 17:38:20 -0800 2016</td>\n",
              "      <td>NaN</td>\n",
              "      <td>NaN</td>\n",
              "      <td>5</td>\n",
              "      <td>1</td>\n",
              "    </tr>\n",
              "    <tr>\n",
              "      <th>4</th>\n",
              "      <td>8842281e1d1347389f2ab93d60773d4d</td>\n",
              "      <td>25884323</td>\n",
              "      <td>332732725863131279a8e345b63ac33e</td>\n",
              "      <td>4</td>\n",
              "      <td>I really enjoyed this book, and there is a lot...</td>\n",
              "      <td>Mon Apr 25 09:31:23 -0700 2016</td>\n",
              "      <td>Mon Apr 25 09:31:23 -0700 2016</td>\n",
              "      <td>Sun Jun 26 00:00:00 -0700 2016</td>\n",
              "      <td>Sat May 28 00:00:00 -0700 2016</td>\n",
              "      <td>9</td>\n",
              "      <td>1</td>\n",
              "    </tr>\n",
              "  </tbody>\n",
              "</table>\n",
              "</div>\n",
              "      <button class=\"colab-df-convert\" onclick=\"convertToInteractive('df-39171df7-a1a9-4129-a8c9-b01592f95824')\"\n",
              "              title=\"Convert this dataframe to an interactive table.\"\n",
              "              style=\"display:none;\">\n",
              "        \n",
              "  <svg xmlns=\"http://www.w3.org/2000/svg\" height=\"24px\"viewBox=\"0 0 24 24\"\n",
              "       width=\"24px\">\n",
              "    <path d=\"M0 0h24v24H0V0z\" fill=\"none\"/>\n",
              "    <path d=\"M18.56 5.44l.94 2.06.94-2.06 2.06-.94-2.06-.94-.94-2.06-.94 2.06-2.06.94zm-11 1L8.5 8.5l.94-2.06 2.06-.94-2.06-.94L8.5 2.5l-.94 2.06-2.06.94zm10 10l.94 2.06.94-2.06 2.06-.94-2.06-.94-.94-2.06-.94 2.06-2.06.94z\"/><path d=\"M17.41 7.96l-1.37-1.37c-.4-.4-.92-.59-1.43-.59-.52 0-1.04.2-1.43.59L10.3 9.45l-7.72 7.72c-.78.78-.78 2.05 0 2.83L4 21.41c.39.39.9.59 1.41.59.51 0 1.02-.2 1.41-.59l7.78-7.78 2.81-2.81c.8-.78.8-2.07 0-2.86zM5.41 20L4 18.59l7.72-7.72 1.47 1.35L5.41 20z\"/>\n",
              "  </svg>\n",
              "      </button>\n",
              "      \n",
              "  <style>\n",
              "    .colab-df-container {\n",
              "      display:flex;\n",
              "      flex-wrap:wrap;\n",
              "      gap: 12px;\n",
              "    }\n",
              "\n",
              "    .colab-df-convert {\n",
              "      background-color: #E8F0FE;\n",
              "      border: none;\n",
              "      border-radius: 50%;\n",
              "      cursor: pointer;\n",
              "      display: none;\n",
              "      fill: #1967D2;\n",
              "      height: 32px;\n",
              "      padding: 0 0 0 0;\n",
              "      width: 32px;\n",
              "    }\n",
              "\n",
              "    .colab-df-convert:hover {\n",
              "      background-color: #E2EBFA;\n",
              "      box-shadow: 0px 1px 2px rgba(60, 64, 67, 0.3), 0px 1px 3px 1px rgba(60, 64, 67, 0.15);\n",
              "      fill: #174EA6;\n",
              "    }\n",
              "\n",
              "    [theme=dark] .colab-df-convert {\n",
              "      background-color: #3B4455;\n",
              "      fill: #D2E3FC;\n",
              "    }\n",
              "\n",
              "    [theme=dark] .colab-df-convert:hover {\n",
              "      background-color: #434B5C;\n",
              "      box-shadow: 0px 1px 3px 1px rgba(0, 0, 0, 0.15);\n",
              "      filter: drop-shadow(0px 1px 2px rgba(0, 0, 0, 0.3));\n",
              "      fill: #FFFFFF;\n",
              "    }\n",
              "  </style>\n",
              "\n",
              "      <script>\n",
              "        const buttonEl =\n",
              "          document.querySelector('#df-39171df7-a1a9-4129-a8c9-b01592f95824 button.colab-df-convert');\n",
              "        buttonEl.style.display =\n",
              "          google.colab.kernel.accessAllowed ? 'block' : 'none';\n",
              "\n",
              "        async function convertToInteractive(key) {\n",
              "          const element = document.querySelector('#df-39171df7-a1a9-4129-a8c9-b01592f95824');\n",
              "          const dataTable =\n",
              "            await google.colab.kernel.invokeFunction('convertToInteractive',\n",
              "                                                     [key], {});\n",
              "          if (!dataTable) return;\n",
              "\n",
              "          const docLinkHtml = 'Like what you see? Visit the ' +\n",
              "            '<a target=\"_blank\" href=https://colab.research.google.com/notebooks/data_table.ipynb>data table notebook</a>'\n",
              "            + ' to learn more about interactive tables.';\n",
              "          element.innerHTML = '';\n",
              "          dataTable['output_type'] = 'display_data';\n",
              "          await google.colab.output.renderOutput(dataTable, element);\n",
              "          const docLink = document.createElement('div');\n",
              "          docLink.innerHTML = docLinkHtml;\n",
              "          element.appendChild(docLink);\n",
              "        }\n",
              "      </script>\n",
              "    </div>\n",
              "  </div>\n",
              "  "
            ]
          },
          "metadata": {},
          "execution_count": 3
        }
      ]
    },
    {
      "cell_type": "code",
      "source": [
        "from matplotlib import colors\n",
        "import matplotlib\n",
        "import matplotlib.pyplot as plt\n",
        "%matplotlib inline\n",
        "%config InlineBackend.figure_format = 'retina' \n",
        "font = {'family' : 'normal',\n",
        "        'size'   : 17}\n",
        "\n",
        "matplotlib.rc('font', **font)\n",
        "train['rating'].value_counts().sort_index().plot.bar(figsize=(10,5), color=['violet', 'yellow', 'orange', 'blue', 'red', 'green'])\n",
        "plt.xlabel('Рейтинг', fontweight='bold')\n",
        "plt.ylabel('Количество отзывов', fontweight='bold')\n",
        "plt.show()"
      ],
      "metadata": {
        "colab": {
          "base_uri": "https://localhost:8080/",
          "height": 1000
        },
        "id": "oaBo461pWQxE",
        "outputId": "badc6ba7-4bf9-4434-a89e-e936c0dc02ca"
      },
      "execution_count": 4,
      "outputs": [
        {
          "output_type": "stream",
          "name": "stderr",
          "text": [
            "WARNING:matplotlib.font_manager:findfont: Font family 'normal' not found.\n",
            "WARNING:matplotlib.font_manager:findfont: Font family 'normal' not found.\n",
            "WARNING:matplotlib.font_manager:findfont: Font family 'normal' not found.\n",
            "WARNING:matplotlib.font_manager:findfont: Font family 'normal' not found.\n",
            "WARNING:matplotlib.font_manager:findfont: Font family 'normal' not found.\n",
            "WARNING:matplotlib.font_manager:findfont: Font family 'normal' not found.\n",
            "WARNING:matplotlib.font_manager:findfont: Font family 'normal' not found.\n",
            "WARNING:matplotlib.font_manager:findfont: Font family 'normal' not found.\n",
            "WARNING:matplotlib.font_manager:findfont: Font family 'normal' not found.\n",
            "WARNING:matplotlib.font_manager:findfont: Font family 'normal' not found.\n",
            "WARNING:matplotlib.font_manager:findfont: Font family 'normal' not found.\n",
            "WARNING:matplotlib.font_manager:findfont: Font family 'normal' not found.\n",
            "WARNING:matplotlib.font_manager:findfont: Font family 'normal' not found.\n",
            "WARNING:matplotlib.font_manager:findfont: Font family 'normal' not found.\n",
            "WARNING:matplotlib.font_manager:findfont: Font family 'normal' not found.\n",
            "WARNING:matplotlib.font_manager:findfont: Font family 'normal' not found.\n",
            "WARNING:matplotlib.font_manager:findfont: Font family 'normal' not found.\n",
            "WARNING:matplotlib.font_manager:findfont: Font family 'normal' not found.\n",
            "WARNING:matplotlib.font_manager:findfont: Font family 'normal' not found.\n",
            "WARNING:matplotlib.font_manager:findfont: Font family 'normal' not found.\n",
            "WARNING:matplotlib.font_manager:findfont: Font family 'normal' not found.\n",
            "WARNING:matplotlib.font_manager:findfont: Font family 'normal' not found.\n",
            "WARNING:matplotlib.font_manager:findfont: Font family 'normal' not found.\n",
            "WARNING:matplotlib.font_manager:findfont: Font family 'normal' not found.\n",
            "WARNING:matplotlib.font_manager:findfont: Font family 'normal' not found.\n",
            "WARNING:matplotlib.font_manager:findfont: Font family 'normal' not found.\n",
            "WARNING:matplotlib.font_manager:findfont: Font family 'normal' not found.\n",
            "WARNING:matplotlib.font_manager:findfont: Font family 'normal' not found.\n",
            "WARNING:matplotlib.font_manager:findfont: Font family 'normal' not found.\n",
            "WARNING:matplotlib.font_manager:findfont: Font family 'normal' not found.\n",
            "WARNING:matplotlib.font_manager:findfont: Font family 'normal' not found.\n",
            "WARNING:matplotlib.font_manager:findfont: Font family 'normal' not found.\n",
            "WARNING:matplotlib.font_manager:findfont: Font family 'normal' not found.\n",
            "WARNING:matplotlib.font_manager:findfont: Font family 'normal' not found.\n",
            "WARNING:matplotlib.font_manager:findfont: Font family 'normal' not found.\n",
            "WARNING:matplotlib.font_manager:findfont: Font family 'normal' not found.\n",
            "WARNING:matplotlib.font_manager:findfont: Font family 'normal' not found.\n",
            "WARNING:matplotlib.font_manager:findfont: Font family 'normal' not found.\n",
            "WARNING:matplotlib.font_manager:findfont: Font family 'normal' not found.\n",
            "WARNING:matplotlib.font_manager:findfont: Font family 'normal' not found.\n",
            "WARNING:matplotlib.font_manager:findfont: Font family 'normal' not found.\n",
            "WARNING:matplotlib.font_manager:findfont: Font family 'normal' not found.\n",
            "WARNING:matplotlib.font_manager:findfont: Font family 'normal' not found.\n",
            "WARNING:matplotlib.font_manager:findfont: Font family 'normal' not found.\n",
            "WARNING:matplotlib.font_manager:findfont: Font family 'normal' not found.\n",
            "WARNING:matplotlib.font_manager:findfont: Font family 'normal' not found.\n",
            "WARNING:matplotlib.font_manager:findfont: Font family 'normal' not found.\n"
          ]
        },
        {
          "output_type": "display_data",
          "data": {
            "text/plain": [
              "<Figure size 1000x500 with 1 Axes>"
            ],
            "image/png": "[encoded data removed]"
          },
          "metadata": {
            "image/png": {
              "width": 922,
              "height": 457
            }
          }
        }
      ]
    },
    {
      "cell_type": "code",
      "source": [
        "labels = [f'{k} ({train[\"rating\"].sort_index().value_counts()[k]})' for k in train['rating'].value_counts().sort_index().keys()]\n",
        "sizes = dict(train['rating'].value_counts().sort_index()).values()\n",
        "\n",
        "fig1, ax1 = plt.subplots(figsize=(8,8))\n",
        "ax1.pie(sizes, labels=labels, autopct='%1.1f%%',\n",
        "        shadow=False, colors=['violet', 'yellow', 'orange', 'blue', 'red', 'green'])\n",
        "ax1.axis('equal')  \n",
        "plt.show();"
      ],
      "metadata": {
        "colab": {
          "base_uri": "https://localhost:8080/",
          "height": 1000
        },
        "id": "JfN5wEpzv-za",
        "outputId": "3e5dcd67-5e03-4b3c-a008-77812c77e46b"
      },
      "execution_count": 5,
      "outputs": [
        {
          "output_type": "stream",
          "name": "stderr",
          "text": [
            "WARNING:matplotlib.font_manager:findfont: Font family 'normal' not found.\n",
            "WARNING:matplotlib.font_manager:findfont: Font family 'normal' not found.\n",
            "WARNING:matplotlib.font_manager:findfont: Font family 'normal' not found.\n",
            "WARNING:matplotlib.font_manager:findfont: Font family 'normal' not found.\n",
            "WARNING:matplotlib.font_manager:findfont: Font family 'normal' not found.\n",
            "WARNING:matplotlib.font_manager:findfont: Font family 'normal' not found.\n",
            "WARNING:matplotlib.font_manager:findfont: Font family 'normal' not found.\n",
            "WARNING:matplotlib.font_manager:findfont: Font family 'normal' not found.\n",
            "WARNING:matplotlib.font_manager:findfont: Font family 'normal' not found.\n",
            "WARNING:matplotlib.font_manager:findfont: Font family 'normal' not found.\n",
            "WARNING:matplotlib.font_manager:findfont: Font family 'normal' not found.\n",
            "WARNING:matplotlib.font_manager:findfont: Font family 'normal' not found.\n",
            "WARNING:matplotlib.font_manager:findfont: Font family 'normal' not found.\n",
            "WARNING:matplotlib.font_manager:findfont: Font family 'normal' not found.\n",
            "WARNING:matplotlib.font_manager:findfont: Font family 'normal' not found.\n",
            "WARNING:matplotlib.font_manager:findfont: Font family 'normal' not found.\n",
            "WARNING:matplotlib.font_manager:findfont: Font family 'normal' not found.\n",
            "WARNING:matplotlib.font_manager:findfont: Font family 'normal' not found.\n",
            "WARNING:matplotlib.font_manager:findfont: Font family 'normal' not found.\n",
            "WARNING:matplotlib.font_manager:findfont: Font family 'normal' not found.\n",
            "WARNING:matplotlib.font_manager:findfont: Font family 'normal' not found.\n",
            "WARNING:matplotlib.font_manager:findfont: Font family 'normal' not found.\n",
            "WARNING:matplotlib.font_manager:findfont: Font family 'normal' not found.\n",
            "WARNING:matplotlib.font_manager:findfont: Font family 'normal' not found.\n",
            "WARNING:matplotlib.font_manager:findfont: Font family 'normal' not found.\n",
            "WARNING:matplotlib.font_manager:findfont: Font family 'normal' not found.\n",
            "WARNING:matplotlib.font_manager:findfont: Font family 'normal' not found.\n",
            "WARNING:matplotlib.font_manager:findfont: Font family 'normal' not found.\n",
            "WARNING:matplotlib.font_manager:findfont: Font family 'normal' not found.\n",
            "WARNING:matplotlib.font_manager:findfont: Font family 'normal' not found.\n",
            "WARNING:matplotlib.font_manager:findfont: Font family 'normal' not found.\n",
            "WARNING:matplotlib.font_manager:findfont: Font family 'normal' not found.\n",
            "WARNING:matplotlib.font_manager:findfont: Font family 'normal' not found.\n",
            "WARNING:matplotlib.font_manager:findfont: Font family 'normal' not found.\n",
            "WARNING:matplotlib.font_manager:findfont: Font family 'normal' not found.\n",
            "WARNING:matplotlib.font_manager:findfont: Font family 'normal' not found.\n",
            "WARNING:matplotlib.font_manager:findfont: Font family 'normal' not found.\n",
            "WARNING:matplotlib.font_manager:findfont: Font family 'normal' not found.\n"
          ]
        },
        {
          "output_type": "display_data",
          "data": {
            "text/plain": [
              "<Figure size 800x800 with 1 Axes>"
            ],
            "image/png": "[encoded data removed]"
          },
          "metadata": {
            "image/png": {
              "width": 879,
              "height": 649
            }
          }
        }
      ]
    },
    {
      "cell_type": "code",
      "source": [
        "test=pd.read_csv('/content/drive/MyDrive/goodreads_test.csv')\n",
        "test.head()"
      ],
      "metadata": {
        "id": "GqywQtCNs335",
        "colab": {
          "base_uri": "https://localhost:8080/",
          "height": 354
        },
        "outputId": "0057aa45-8258-44f0-dc33-af109fb7f2ab"
      },
      "execution_count": 6,
      "outputs": [
        {
          "output_type": "execute_result",
          "data": {
            "text/plain": [
              "                            user_id   book_id  \\\n",
              "0  b9450d1c1f97f891c392b1105959b56e   7092507   \n",
              "1  b9450d1c1f97f891c392b1105959b56e   5576654   \n",
              "2  b9450d1c1f97f891c392b1105959b56e  15754052   \n",
              "3  b9450d1c1f97f891c392b1105959b56e     17020   \n",
              "4  b9450d1c1f97f891c392b1105959b56e  12551082   \n",
              "\n",
              "                          review_id  \\\n",
              "0  5c4df7e70e9b438c761f07a4620ccb7c   \n",
              "1  8eaeaf13213eeb16ad879a2a2591bbe5   \n",
              "2  dce649b733c153ba5363a0413cac988f   \n",
              "3  8a46df0bb997269d6834f9437a4b0a77   \n",
              "4  d11d3091e22f1cf3cb865598de197599   \n",
              "\n",
              "                                         review_text  \\\n",
              "0  ** spoiler alert ** \\n This is definitely one ...   \n",
              "1  ** spoiler alert ** \\n \"You are what you drink...   \n",
              "2  Roar is one of my favorite characters in Under...   \n",
              "3  ** spoiler alert ** \\n If you feel like travel...   \n",
              "4  3.5 stars \\n I read and enjoyed the first two ...   \n",
              "\n",
              "                       date_added                    date_updated  \\\n",
              "0  Sat Nov 10 06:06:13 -0800 2012  Sun Nov 11 05:38:36 -0800 2012   \n",
              "1  Fri Nov 09 21:55:16 -0800 2012  Sat Nov 10 05:41:49 -0800 2012   \n",
              "2  Fri Nov 09 00:25:50 -0800 2012  Sat Nov 10 06:14:10 -0800 2012   \n",
              "3  Thu Nov 01 00:28:39 -0700 2012  Sat Nov 03 11:35:22 -0700 2012   \n",
              "4  Thu Oct 18 00:57:00 -0700 2012  Mon Apr 01 23:00:51 -0700 2013   \n",
              "\n",
              "                          read_at                      started_at  n_votes  \\\n",
              "0  Sun Nov 11 05:38:36 -0800 2012  Sat Nov 10 00:00:00 -0800 2012        1   \n",
              "1  Sat Nov 10 05:41:49 -0800 2012  Fri Nov 09 00:00:00 -0800 2012        1   \n",
              "2  Sat Nov 10 06:14:10 -0800 2012  Fri Nov 09 00:00:00 -0800 2012        0   \n",
              "3  Sat Nov 03 11:35:22 -0700 2012  Thu Nov 01 00:00:00 -0700 2012        0   \n",
              "4  Sat Mar 30 00:00:00 -0700 2013  Fri Mar 29 00:00:00 -0700 2013        0   \n",
              "\n",
              "   n_comments  \n",
              "0           0  \n",
              "1           0  \n",
              "2           0  \n",
              "3           0  \n",
              "4           0  "
            ],
            "text/html": [
              "\n",
              "  <div id=\"df-a24b135e-b28a-4b95-9e29-609e69ab9dd4\">\n",
              "    <div class=\"colab-df-container\">\n",
              "      <div>\n",
              "<style scoped>\n",
              "    .dataframe tbody tr th:only-of-type {\n",
              "        vertical-align: middle;\n",
              "    }\n",
              "\n",
              "    .dataframe tbody tr th {\n",
              "        vertical-align: top;\n",
              "    }\n",
              "\n",
              "    .dataframe thead th {\n",
              "        text-align: right;\n",
              "    }\n",
              "</style>\n",
              "<table border=\"1\" class=\"dataframe\">\n",
              "  <thead>\n",
              "    <tr style=\"text-align: right;\">\n",
              "      <th></th>\n",
              "      <th>user_id</th>\n",
              "      <th>book_id</th>\n",
              "      <th>review_id</th>\n",
              "      <th>review_text</th>\n",
              "      <th>date_added</th>\n",
              "      <th>date_updated</th>\n",
              "      <th>read_at</th>\n",
              "      <th>started_at</th>\n",
              "      <th>n_votes</th>\n",
              "      <th>n_comments</th>\n",
              "    </tr>\n",
              "  </thead>\n",
              "  <tbody>\n",
              "    <tr>\n",
              "      <th>0</th>\n",
              "      <td>b9450d1c1f97f891c392b1105959b56e</td>\n",
              "      <td>7092507</td>\n",
              "      <td>5c4df7e70e9b438c761f07a4620ccb7c</td>\n",
              "      <td>** spoiler alert ** \\n This is definitely one ...</td>\n",
              "      <td>Sat Nov 10 06:06:13 -0800 2012</td>\n",
              "      <td>Sun Nov 11 05:38:36 -0800 2012</td>\n",
              "      <td>Sun Nov 11 05:38:36 -0800 2012</td>\n",
              "      <td>Sat Nov 10 00:00:00 -0800 2012</td>\n",
              "      <td>1</td>\n",
              "      <td>0</td>\n",
              "    </tr>\n",
              "    <tr>\n",
              "      <th>1</th>\n",
              "      <td>b9450d1c1f97f891c392b1105959b56e</td>\n",
              "      <td>5576654</td>\n",
              "      <td>8eaeaf13213eeb16ad879a2a2591bbe5</td>\n",
              "      <td>** spoiler alert ** \\n \"You are what you drink...</td>\n",
              "      <td>Fri Nov 09 21:55:16 -0800 2012</td>\n",
              "      <td>Sat Nov 10 05:41:49 -0800 2012</td>\n",
              "      <td>Sat Nov 10 05:41:49 -0800 2012</td>\n",
              "      <td>Fri Nov 09 00:00:00 -0800 2012</td>\n",
              "      <td>1</td>\n",
              "      <td>0</td>\n",
              "    </tr>\n",
              "    <tr>\n",
              "      <th>2</th>\n",
              "      <td>b9450d1c1f97f891c392b1105959b56e</td>\n",
              "      <td>15754052</td>\n",
              "      <td>dce649b733c153ba5363a0413cac988f</td>\n",
              "      <td>Roar is one of my favorite characters in Under...</td>\n",
              "      <td>Fri Nov 09 00:25:50 -0800 2012</td>\n",
              "      <td>Sat Nov 10 06:14:10 -0800 2012</td>\n",
              "      <td>Sat Nov 10 06:14:10 -0800 2012</td>\n",
              "      <td>Fri Nov 09 00:00:00 -0800 2012</td>\n",
              "      <td>0</td>\n",
              "      <td>0</td>\n",
              "    </tr>\n",
              "    <tr>\n",
              "      <th>3</th>\n",
              "      <td>b9450d1c1f97f891c392b1105959b56e</td>\n",
              "      <td>17020</td>\n",
              "      <td>8a46df0bb997269d6834f9437a4b0a77</td>\n",
              "      <td>** spoiler alert ** \\n If you feel like travel...</td>\n",
              "      <td>Thu Nov 01 00:28:39 -0700 2012</td>\n",
              "      <td>Sat Nov 03 11:35:22 -0700 2012</td>\n",
              "      <td>Sat Nov 03 11:35:22 -0700 2012</td>\n",
              "      <td>Thu Nov 01 00:00:00 -0700 2012</td>\n",
              "      <td>0</td>\n",
              "      <td>0</td>\n",
              "    </tr>\n",
              "    <tr>\n",
              "      <th>4</th>\n",
              "      <td>b9450d1c1f97f891c392b1105959b56e</td>\n",
              "      <td>12551082</td>\n",
              "      <td>d11d3091e22f1cf3cb865598de197599</td>\n",
              "      <td>3.5 stars \\n I read and enjoyed the first two ...</td>\n",
              "      <td>Thu Oct 18 00:57:00 -0700 2012</td>\n",
              "      <td>Mon Apr 01 23:00:51 -0700 2013</td>\n",
              "      <td>Sat Mar 30 00:00:00 -0700 2013</td>\n",
              "      <td>Fri Mar 29 00:00:00 -0700 2013</td>\n",
              "      <td>0</td>\n",
              "      <td>0</td>\n",
              "    </tr>\n",
              "  </tbody>\n",
              "</table>\n",
              "</div>\n",
              "      <button class=\"colab-df-convert\" onclick=\"convertToInteractive('df-a24b135e-b28a-4b95-9e29-609e69ab9dd4')\"\n",
              "              title=\"Convert this dataframe to an interactive table.\"\n",
              "              style=\"display:none;\">\n",
              "        \n",
              "  <svg xmlns=\"http://www.w3.org/2000/svg\" height=\"24px\"viewBox=\"0 0 24 24\"\n",
              "       width=\"24px\">\n",
              "    <path d=\"M0 0h24v24H0V0z\" fill=\"none\"/>\n",
              "    <path d=\"M18.56 5.44l.94 2.06.94-2.06 2.06-.94-2.06-.94-.94-2.06-.94 2.06-2.06.94zm-11 1L8.5 8.5l.94-2.06 2.06-.94-2.06-.94L8.5 2.5l-.94 2.06-2.06.94zm10 10l.94 2.06.94-2.06 2.06-.94-2.06-.94-.94-2.06-.94 2.06-2.06.94z\"/><path d=\"M17.41 7.96l-1.37-1.37c-.4-.4-.92-.59-1.43-.59-.52 0-1.04.2-1.43.59L10.3 9.45l-7.72 7.72c-.78.78-.78 2.05 0 2.83L4 21.41c.39.39.9.59 1.41.59.51 0 1.02-.2 1.41-.59l7.78-7.78 2.81-2.81c.8-.78.8-2.07 0-2.86zM5.41 20L4 18.59l7.72-7.72 1.47 1.35L5.41 20z\"/>\n",
              "  </svg>\n",
              "      </button>\n",
              "      \n",
              "  <style>\n",
              "    .colab-df-container {\n",
              "      display:flex;\n",
              "      flex-wrap:wrap;\n",
              "      gap: 12px;\n",
              "    }\n",
              "\n",
              "    .colab-df-convert {\n",
              "      background-color: #E8F0FE;\n",
              "      border: none;\n",
              "      border-radius: 50%;\n",
              "      cursor: pointer;\n",
              "      display: none;\n",
              "      fill: #1967D2;\n",
              "      height: 32px;\n",
              "      padding: 0 0 0 0;\n",
              "      width: 32px;\n",
              "    }\n",
              "\n",
              "    .colab-df-convert:hover {\n",
              "      background-color: #E2EBFA;\n",
              "      box-shadow: 0px 1px 2px rgba(60, 64, 67, 0.3), 0px 1px 3px 1px rgba(60, 64, 67, 0.15);\n",
              "      fill: #174EA6;\n",
              "    }\n",
              "\n",
              "    [theme=dark] .colab-df-convert {\n",
              "      background-color: #3B4455;\n",
              "      fill: #D2E3FC;\n",
              "    }\n",
              "\n",
              "    [theme=dark] .colab-df-convert:hover {\n",
              "      background-color: #434B5C;\n",
              "      box-shadow: 0px 1px 3px 1px rgba(0, 0, 0, 0.15);\n",
              "      filter: drop-shadow(0px 1px 2px rgba(0, 0, 0, 0.3));\n",
              "      fill: #FFFFFF;\n",
              "    }\n",
              "  </style>\n",
              "\n",
              "      <script>\n",
              "        const buttonEl =\n",
              "          document.querySelector('#df-a24b135e-b28a-4b95-9e29-609e69ab9dd4 button.colab-df-convert');\n",
              "        buttonEl.style.display =\n",
              "          google.colab.kernel.accessAllowed ? 'block' : 'none';\n",
              "\n",
              "        async function convertToInteractive(key) {\n",
              "          const element = document.querySelector('#df-a24b135e-b28a-4b95-9e29-609e69ab9dd4');\n",
              "          const dataTable =\n",
              "            await google.colab.kernel.invokeFunction('convertToInteractive',\n",
              "                                                     [key], {});\n",
              "          if (!dataTable) return;\n",
              "\n",
              "          const docLinkHtml = 'Like what you see? Visit the ' +\n",
              "            '<a target=\"_blank\" href=https://colab.research.google.com/notebooks/data_table.ipynb>data table notebook</a>'\n",
              "            + ' to learn more about interactive tables.';\n",
              "          element.innerHTML = '';\n",
              "          dataTable['output_type'] = 'display_data';\n",
              "          await google.colab.output.renderOutput(dataTable, element);\n",
              "          const docLink = document.createElement('div');\n",
              "          docLink.innerHTML = docLinkHtml;\n",
              "          element.appendChild(docLink);\n",
              "        }\n",
              "      </script>\n",
              "    </div>\n",
              "  </div>\n",
              "  "
            ]
          },
          "metadata": {},
          "execution_count": 6
        }
      ]
    },
    {
      "cell_type": "code",
      "source": [
        "print(f\"train shape = {train.shape}\")\n",
        "print(f\"test_shape = {test.shape}\")"
      ],
      "metadata": {
        "id": "_tzbngrRs_yR",
        "colab": {
          "base_uri": "https://localhost:8080/"
        },
        "outputId": "7e7f3d3e-950e-40d2-9d01-b3c5f11f0c32"
      },
      "execution_count": 7,
      "outputs": [
        {
          "output_type": "stream",
          "name": "stdout",
          "text": [
            "train shape = (900000, 11)\n",
            "test_shape = (478033, 10)\n"
          ]
        }
      ]
    },
    {
      "cell_type": "code",
      "source": [
        "train.info()"
      ],
      "metadata": {
        "id": "zEsoXGJmtAf6",
        "colab": {
          "base_uri": "https://localhost:8080/"
        },
        "outputId": "d59ddcd4-cef0-4223-a5cf-b651a4f7f89e"
      },
      "execution_count": 8,
      "outputs": [
        {
          "output_type": "stream",
          "name": "stdout",
          "text": [
            "<class 'pandas.core.frame.DataFrame'>\n",
            "RangeIndex: 900000 entries, 0 to 899999\n",
            "Data columns (total 11 columns):\n",
            " #   Column        Non-Null Count   Dtype \n",
            "---  ------        --------------   ----- \n",
            " 0   user_id       900000 non-null  object\n",
            " 1   book_id       900000 non-null  int64 \n",
            " 2   review_id     900000 non-null  object\n",
            " 3   rating        900000 non-null  int64 \n",
            " 4   review_text   900000 non-null  object\n",
            " 5   date_added    900000 non-null  object\n",
            " 6   date_updated  900000 non-null  object\n",
            " 7   read_at       808234 non-null  object\n",
            " 8   started_at    625703 non-null  object\n",
            " 9   n_votes       900000 non-null  int64 \n",
            " 10  n_comments    900000 non-null  int64 \n",
            "dtypes: int64(4), object(7)\n",
            "memory usage: 75.5+ MB\n"
          ]
        }
      ]
    },
    {
      "cell_type": "code",
      "source": [
        "test.info()"
      ],
      "metadata": {
        "id": "J-IWPqQrtbPK",
        "colab": {
          "base_uri": "https://localhost:8080/"
        },
        "outputId": "bcbfd343-71a2-47ba-c73a-29980daaec0c"
      },
      "execution_count": 9,
      "outputs": [
        {
          "output_type": "stream",
          "name": "stdout",
          "text": [
            "<class 'pandas.core.frame.DataFrame'>\n",
            "RangeIndex: 478033 entries, 0 to 478032\n",
            "Data columns (total 10 columns):\n",
            " #   Column        Non-Null Count   Dtype \n",
            "---  ------        --------------   ----- \n",
            " 0   user_id       478033 non-null  object\n",
            " 1   book_id       478033 non-null  int64 \n",
            " 2   review_id     478033 non-null  object\n",
            " 3   review_text   478033 non-null  object\n",
            " 4   date_added    478033 non-null  object\n",
            " 5   date_updated  478033 non-null  object\n",
            " 6   read_at       435555 non-null  object\n",
            " 7   started_at    334989 non-null  object\n",
            " 8   n_votes       478033 non-null  int64 \n",
            " 9   n_comments    478033 non-null  int64 \n",
            "dtypes: int64(3), object(7)\n",
            "memory usage: 36.5+ MB\n"
          ]
        }
      ]
    },
    {
      "cell_type": "code",
      "source": [
        "train.drop([\"user_id\", \"book_id\", \"review_id\", \"date_added\", \"date_updated\", \"read_at\", \"started_at\", \"n_votes\", \"n_comments\"], inplace=True, axis=1)\n",
        "train.head()"
      ],
      "metadata": {
        "id": "ZDR15I_mtMfa",
        "colab": {
          "base_uri": "https://localhost:8080/",
          "height": 206
        },
        "outputId": "916f5bf0-5e85-4575-8353-f6ebe0fb46bb"
      },
      "execution_count": 10,
      "outputs": [
        {
          "output_type": "execute_result",
          "data": {
            "text/plain": [
              "   rating                                        review_text\n",
              "0       5  This is a special book. It started slow for ab...\n",
              "1       3  Recommended by Don Katz. Avail for free in Dec...\n",
              "2       3  A fun, fast paced science fiction thriller. I ...\n",
              "3       0  Recommended reading to understand what is goin...\n",
              "4       4  I really enjoyed this book, and there is a lot..."
            ],
            "text/html": [
              "\n",
              "  <div id=\"df-6a1ae3b3-03e6-4708-b575-93b159c3018c\">\n",
              "    <div class=\"colab-df-container\">\n",
              "      <div>\n",
              "<style scoped>\n",
              "    .dataframe tbody tr th:only-of-type {\n",
              "        vertical-align: middle;\n",
              "    }\n",
              "\n",
              "    .dataframe tbody tr th {\n",
              "        vertical-align: top;\n",
              "    }\n",
              "\n",
              "    .dataframe thead th {\n",
              "        text-align: right;\n",
              "    }\n",
              "</style>\n",
              "<table border=\"1\" class=\"dataframe\">\n",
              "  <thead>\n",
              "    <tr style=\"text-align: right;\">\n",
              "      <th></th>\n",
              "      <th>rating</th>\n",
              "      <th>review_text</th>\n",
              "    </tr>\n",
              "  </thead>\n",
              "  <tbody>\n",
              "    <tr>\n",
              "      <th>0</th>\n",
              "      <td>5</td>\n",
              "      <td>This is a special book. It started slow for ab...</td>\n",
              "    </tr>\n",
              "    <tr>\n",
              "      <th>1</th>\n",
              "      <td>3</td>\n",
              "      <td>Recommended by Don Katz. Avail for free in Dec...</td>\n",
              "    </tr>\n",
              "    <tr>\n",
              "      <th>2</th>\n",
              "      <td>3</td>\n",
              "      <td>A fun, fast paced science fiction thriller. I ...</td>\n",
              "    </tr>\n",
              "    <tr>\n",
              "      <th>3</th>\n",
              "      <td>0</td>\n",
              "      <td>Recommended reading to understand what is goin...</td>\n",
              "    </tr>\n",
              "    <tr>\n",
              "      <th>4</th>\n",
              "      <td>4</td>\n",
              "      <td>I really enjoyed this book, and there is a lot...</td>\n",
              "    </tr>\n",
              "  </tbody>\n",
              "</table>\n",
              "</div>\n",
              "      <button class=\"colab-df-convert\" onclick=\"convertToInteractive('df-6a1ae3b3-03e6-4708-b575-93b159c3018c')\"\n",
              "              title=\"Convert this dataframe to an interactive table.\"\n",
              "              style=\"display:none;\">\n",
              "        \n",
              "  <svg xmlns=\"http://www.w3.org/2000/svg\" height=\"24px\"viewBox=\"0 0 24 24\"\n",
              "       width=\"24px\">\n",
              "    <path d=\"M0 0h24v24H0V0z\" fill=\"none\"/>\n",
              "    <path d=\"M18.56 5.44l.94 2.06.94-2.06 2.06-.94-2.06-.94-.94-2.06-.94 2.06-2.06.94zm-11 1L8.5 8.5l.94-2.06 2.06-.94-2.06-.94L8.5 2.5l-.94 2.06-2.06.94zm10 10l.94 2.06.94-2.06 2.06-.94-2.06-.94-.94-2.06-.94 2.06-2.06.94z\"/><path d=\"M17.41 7.96l-1.37-1.37c-.4-.4-.92-.59-1.43-.59-.52 0-1.04.2-1.43.59L10.3 9.45l-7.72 7.72c-.78.78-.78 2.05 0 2.83L4 21.41c.39.39.9.59 1.41.59.51 0 1.02-.2 1.41-.59l7.78-7.78 2.81-2.81c.8-.78.8-2.07 0-2.86zM5.41 20L4 18.59l7.72-7.72 1.47 1.35L5.41 20z\"/>\n",
              "  </svg>\n",
              "      </button>\n",
              "      \n",
              "  <style>\n",
              "    .colab-df-container {\n",
              "      display:flex;\n",
              "      flex-wrap:wrap;\n",
              "      gap: 12px;\n",
              "    }\n",
              "\n",
              "    .colab-df-convert {\n",
              "      background-color: #E8F0FE;\n",
              "      border: none;\n",
              "      border-radius: 50%;\n",
              "      cursor: pointer;\n",
              "      display: none;\n",
              "      fill: #1967D2;\n",
              "      height: 32px;\n",
              "      padding: 0 0 0 0;\n",
              "      width: 32px;\n",
              "    }\n",
              "\n",
              "    .colab-df-convert:hover {\n",
              "      background-color: #E2EBFA;\n",
              "      box-shadow: 0px 1px 2px rgba(60, 64, 67, 0.3), 0px 1px 3px 1px rgba(60, 64, 67, 0.15);\n",
              "      fill: #174EA6;\n",
              "    }\n",
              "\n",
              "    [theme=dark] .colab-df-convert {\n",
              "      background-color: #3B4455;\n",
              "      fill: #D2E3FC;\n",
              "    }\n",
              "\n",
              "    [theme=dark] .colab-df-convert:hover {\n",
              "      background-color: #434B5C;\n",
              "      box-shadow: 0px 1px 3px 1px rgba(0, 0, 0, 0.15);\n",
              "      filter: drop-shadow(0px 1px 2px rgba(0, 0, 0, 0.3));\n",
              "      fill: #FFFFFF;\n",
              "    }\n",
              "  </style>\n",
              "\n",
              "      <script>\n",
              "        const buttonEl =\n",
              "          document.querySelector('#df-6a1ae3b3-03e6-4708-b575-93b159c3018c button.colab-df-convert');\n",
              "        buttonEl.style.display =\n",
              "          google.colab.kernel.accessAllowed ? 'block' : 'none';\n",
              "\n",
              "        async function convertToInteractive(key) {\n",
              "          const element = document.querySelector('#df-6a1ae3b3-03e6-4708-b575-93b159c3018c');\n",
              "          const dataTable =\n",
              "            await google.colab.kernel.invokeFunction('convertToInteractive',\n",
              "                                                     [key], {});\n",
              "          if (!dataTable) return;\n",
              "\n",
              "          const docLinkHtml = 'Like what you see? Visit the ' +\n",
              "            '<a target=\"_blank\" href=https://colab.research.google.com/notebooks/data_table.ipynb>data table notebook</a>'\n",
              "            + ' to learn more about interactive tables.';\n",
              "          element.innerHTML = '';\n",
              "          dataTable['output_type'] = 'display_data';\n",
              "          await google.colab.output.renderOutput(dataTable, element);\n",
              "          const docLink = document.createElement('div');\n",
              "          docLink.innerHTML = docLinkHtml;\n",
              "          element.appendChild(docLink);\n",
              "        }\n",
              "      </script>\n",
              "    </div>\n",
              "  </div>\n",
              "  "
            ]
          },
          "metadata": {},
          "execution_count": 10
        }
      ]
    },
    {
      "cell_type": "code",
      "source": [
        "test.drop([\"user_id\", \"book_id\", \"date_added\", \"date_updated\", \"read_at\", \"started_at\", \"n_votes\", \"n_comments\"], inplace=True, axis=1)\n",
        "test.head()"
      ],
      "metadata": {
        "id": "JPSkpGNDtRVr",
        "colab": {
          "base_uri": "https://localhost:8080/",
          "height": 206
        },
        "outputId": "6c03c865-baec-406f-850d-e9f91f931cc6"
      },
      "execution_count": 11,
      "outputs": [
        {
          "output_type": "execute_result",
          "data": {
            "text/plain": [
              "                          review_id  \\\n",
              "0  5c4df7e70e9b438c761f07a4620ccb7c   \n",
              "1  8eaeaf13213eeb16ad879a2a2591bbe5   \n",
              "2  dce649b733c153ba5363a0413cac988f   \n",
              "3  8a46df0bb997269d6834f9437a4b0a77   \n",
              "4  d11d3091e22f1cf3cb865598de197599   \n",
              "\n",
              "                                         review_text  \n",
              "0  ** spoiler alert ** \\n This is definitely one ...  \n",
              "1  ** spoiler alert ** \\n \"You are what you drink...  \n",
              "2  Roar is one of my favorite characters in Under...  \n",
              "3  ** spoiler alert ** \\n If you feel like travel...  \n",
              "4  3.5 stars \\n I read and enjoyed the first two ...  "
            ],
            "text/html": [
              "\n",
              "  <div id=\"df-6f205fb5-d757-4b9f-b56f-f438b106ec55\">\n",
              "    <div class=\"colab-df-container\">\n",
              "      <div>\n",
              "<style scoped>\n",
              "    .dataframe tbody tr th:only-of-type {\n",
              "        vertical-align: middle;\n",
              "    }\n",
              "\n",
              "    .dataframe tbody tr th {\n",
              "        vertical-align: top;\n",
              "    }\n",
              "\n",
              "    .dataframe thead th {\n",
              "        text-align: right;\n",
              "    }\n",
              "</style>\n",
              "<table border=\"1\" class=\"dataframe\">\n",
              "  <thead>\n",
              "    <tr style=\"text-align: right;\">\n",
              "      <th></th>\n",
              "      <th>review_id</th>\n",
              "      <th>review_text</th>\n",
              "    </tr>\n",
              "  </thead>\n",
              "  <tbody>\n",
              "    <tr>\n",
              "      <th>0</th>\n",
              "      <td>5c4df7e70e9b438c761f07a4620ccb7c</td>\n",
              "      <td>** spoiler alert ** \\n This is definitely one ...</td>\n",
              "    </tr>\n",
              "    <tr>\n",
              "      <th>1</th>\n",
              "      <td>8eaeaf13213eeb16ad879a2a2591bbe5</td>\n",
              "      <td>** spoiler alert ** \\n \"You are what you drink...</td>\n",
              "    </tr>\n",
              "    <tr>\n",
              "      <th>2</th>\n",
              "      <td>dce649b733c153ba5363a0413cac988f</td>\n",
              "      <td>Roar is one of my favorite characters in Under...</td>\n",
              "    </tr>\n",
              "    <tr>\n",
              "      <th>3</th>\n",
              "      <td>8a46df0bb997269d6834f9437a4b0a77</td>\n",
              "      <td>** spoiler alert ** \\n If you feel like travel...</td>\n",
              "    </tr>\n",
              "    <tr>\n",
              "      <th>4</th>\n",
              "      <td>d11d3091e22f1cf3cb865598de197599</td>\n",
              "      <td>3.5 stars \\n I read and enjoyed the first two ...</td>\n",
              "    </tr>\n",
              "  </tbody>\n",
              "</table>\n",
              "</div>\n",
              "      <button class=\"colab-df-convert\" onclick=\"convertToInteractive('df-6f205fb5-d757-4b9f-b56f-f438b106ec55')\"\n",
              "              title=\"Convert this dataframe to an interactive table.\"\n",
              "              style=\"display:none;\">\n",
              "        \n",
              "  <svg xmlns=\"http://www.w3.org/2000/svg\" height=\"24px\"viewBox=\"0 0 24 24\"\n",
              "       width=\"24px\">\n",
              "    <path d=\"M0 0h24v24H0V0z\" fill=\"none\"/>\n",
              "    <path d=\"M18.56 5.44l.94 2.06.94-2.06 2.06-.94-2.06-.94-.94-2.06-.94 2.06-2.06.94zm-11 1L8.5 8.5l.94-2.06 2.06-.94-2.06-.94L8.5 2.5l-.94 2.06-2.06.94zm10 10l.94 2.06.94-2.06 2.06-.94-2.06-.94-.94-2.06-.94 2.06-2.06.94z\"/><path d=\"M17.41 7.96l-1.37-1.37c-.4-.4-.92-.59-1.43-.59-.52 0-1.04.2-1.43.59L10.3 9.45l-7.72 7.72c-.78.78-.78 2.05 0 2.83L4 21.41c.39.39.9.59 1.41.59.51 0 1.02-.2 1.41-.59l7.78-7.78 2.81-2.81c.8-.78.8-2.07 0-2.86zM5.41 20L4 18.59l7.72-7.72 1.47 1.35L5.41 20z\"/>\n",
              "  </svg>\n",
              "      </button>\n",
              "      \n",
              "  <style>\n",
              "    .colab-df-container {\n",
              "      display:flex;\n",
              "      flex-wrap:wrap;\n",
              "      gap: 12px;\n",
              "    }\n",
              "\n",
              "    .colab-df-convert {\n",
              "      background-color: #E8F0FE;\n",
              "      border: none;\n",
              "      border-radius: 50%;\n",
              "      cursor: pointer;\n",
              "      display: none;\n",
              "      fill: #1967D2;\n",
              "      height: 32px;\n",
              "      padding: 0 0 0 0;\n",
              "      width: 32px;\n",
              "    }\n",
              "\n",
              "    .colab-df-convert:hover {\n",
              "      background-color: #E2EBFA;\n",
              "      box-shadow: 0px 1px 2px rgba(60, 64, 67, 0.3), 0px 1px 3px 1px rgba(60, 64, 67, 0.15);\n",
              "      fill: #174EA6;\n",
              "    }\n",
              "\n",
              "    [theme=dark] .colab-df-convert {\n",
              "      background-color: #3B4455;\n",
              "      fill: #D2E3FC;\n",
              "    }\n",
              "\n",
              "    [theme=dark] .colab-df-convert:hover {\n",
              "      background-color: #434B5C;\n",
              "      box-shadow: 0px 1px 3px 1px rgba(0, 0, 0, 0.15);\n",
              "      filter: drop-shadow(0px 1px 2px rgba(0, 0, 0, 0.3));\n",
              "      fill: #FFFFFF;\n",
              "    }\n",
              "  </style>\n",
              "\n",
              "      <script>\n",
              "        const buttonEl =\n",
              "          document.querySelector('#df-6f205fb5-d757-4b9f-b56f-f438b106ec55 button.colab-df-convert');\n",
              "        buttonEl.style.display =\n",
              "          google.colab.kernel.accessAllowed ? 'block' : 'none';\n",
              "\n",
              "        async function convertToInteractive(key) {\n",
              "          const element = document.querySelector('#df-6f205fb5-d757-4b9f-b56f-f438b106ec55');\n",
              "          const dataTable =\n",
              "            await google.colab.kernel.invokeFunction('convertToInteractive',\n",
              "                                                     [key], {});\n",
              "          if (!dataTable) return;\n",
              "\n",
              "          const docLinkHtml = 'Like what you see? Visit the ' +\n",
              "            '<a target=\"_blank\" href=https://colab.research.google.com/notebooks/data_table.ipynb>data table notebook</a>'\n",
              "            + ' to learn more about interactive tables.';\n",
              "          element.innerHTML = '';\n",
              "          dataTable['output_type'] = 'display_data';\n",
              "          await google.colab.output.renderOutput(dataTable, element);\n",
              "          const docLink = document.createElement('div');\n",
              "          docLink.innerHTML = docLinkHtml;\n",
              "          element.appendChild(docLink);\n",
              "        }\n",
              "      </script>\n",
              "    </div>\n",
              "  </div>\n",
              "  "
            ]
          },
          "metadata": {},
          "execution_count": 11
        }
      ]
    },
    {
      "cell_type": "markdown",
      "source": [
        "### Пример данных:"
      ],
      "metadata": {
        "id": "weOC_kh_uB30"
      }
    },
    {
      "cell_type": "code",
      "source": [
        "train.review_text[0]"
      ],
      "metadata": {
        "id": "6qbE8sWuuFs5",
        "colab": {
          "base_uri": "https://localhost:8080/",
          "height": 109
        },
        "outputId": "760e8eba-0f78-4557-df5f-64526a657106"
      },
      "execution_count": 12,
      "outputs": [
        {
          "output_type": "execute_result",
          "data": {
            "text/plain": [
              "'This is a special book. It started slow for about the first third, then in the middle third it started to get interesting, then the last third blew my mind. This is what I love about good science fiction - it pushes your thinking about where things can go. \\n It is a 2015 Hugo winner, and translated from its original Chinese, which made it interesting in just a different way from most things I\\'ve read. For instance the intermixing of Chinese revolutionary history - how they kept accusing people of being \"reactionaries\", etc. \\n It is a book about science, and aliens. The science described in the book is impressive - its a book grounded in physics and pretty accurate as far as I could tell. (view spoiler)[Though when it got to folding protons into 8 dimensions I think he was just making stuff up - interesting to think about though. \\n But what would happen if our SETI stations received a message - if we found someone was out there - and the person monitoring and answering the signal on our side was disillusioned? That part of the book was a bit dark - I would like to think human reaction to discovering alien civilization that is hostile would be more like Enders Game where we would band together. \\n I did like how the book unveiled the Trisolaran culture through the game. It was a smart way to build empathy with them and also understand what they\\'ve gone through across so many centuries. And who know a 3 body problem was an unsolvable math problem? But I still don\\'t get who made the game - maybe that will come in the next book. \\n I loved this quote: \\n \"In the long history of scientific progress, how many protons have been smashed apart in accelerators by physicists? How many neutrons and electrons? Probably no fewer than a hundred million. Every collision was probably the end of the civilizations and intelligences in a microcosmos. In fact, even in nature, the destruction of universes must be happening at every second--for example, through the decay of neutrons. Also, a high-energy cosmic ray entering the atmosphere may destroy thousands of such miniature universes....\" \\n (hide spoiler)]'"
            ],
            "application/vnd.google.colaboratory.intrinsic+json": {
              "type": "string"
            }
          },
          "metadata": {},
          "execution_count": 12
        }
      ]
    },
    {
      "cell_type": "code",
      "source": [
        "train.rating[0]"
      ],
      "metadata": {
        "id": "i-kdGeozuBNx",
        "colab": {
          "base_uri": "https://localhost:8080/"
        },
        "outputId": "483e8796-b527-4322-fa41-b61eb209f719"
      },
      "execution_count": 13,
      "outputs": [
        {
          "output_type": "execute_result",
          "data": {
            "text/plain": [
              "5"
            ]
          },
          "metadata": {},
          "execution_count": 13
        }
      ]
    },
    {
      "cell_type": "markdown",
      "source": [
        "### Еще раз убедимся, что пропусков нет:"
      ],
      "metadata": {
        "id": "G7GwC3QKuJik"
      }
    },
    {
      "cell_type": "code",
      "source": [
        "train.review_text.isnull().sum()"
      ],
      "metadata": {
        "id": "v15GtzmcuIhL",
        "colab": {
          "base_uri": "https://localhost:8080/"
        },
        "outputId": "6be5bf1c-75ca-4b91-9808-eec98ad1baf0"
      },
      "execution_count": 14,
      "outputs": [
        {
          "output_type": "execute_result",
          "data": {
            "text/plain": [
              "0"
            ]
          },
          "metadata": {},
          "execution_count": 14
        }
      ]
    },
    {
      "cell_type": "markdown",
      "source": [
        "### Количество отзывов по каждому рейтингу"
      ],
      "metadata": {
        "id": "nMgZ2tziujb6"
      }
    },
    {
      "cell_type": "code",
      "source": [
        "pd.unique(train['rating'])"
      ],
      "metadata": {
        "id": "kqsl47oTtN6G",
        "colab": {
          "base_uri": "https://localhost:8080/"
        },
        "outputId": "1051e823-8ad5-493d-9700-ae5f40e18034"
      },
      "execution_count": 15,
      "outputs": [
        {
          "output_type": "execute_result",
          "data": {
            "text/plain": [
              "array([5, 3, 0, 4, 2, 1])"
            ]
          },
          "metadata": {},
          "execution_count": 15
        }
      ]
    },
    {
      "cell_type": "code",
      "source": [
        "print(f\"Rating 0 - {train.rating[train['rating'] == 0].count()}\")\n",
        "print(f\"Rating 1 - {train.rating[train['rating'] == 1].count()}\")\n",
        "print(f\"Rating 2 - {train.rating[train['rating'] == 2].count()}\")\n",
        "print(f\"Rating 3 - {train.rating[train['rating'] == 3].count()}\")\n",
        "print(f\"Rating 4 - {train.rating[train['rating'] == 4].count()}\")\n",
        "print(f\"Rating 5 - {train.rating[train['rating'] == 5].count()}\")"
      ],
      "metadata": {
        "id": "ZampH8wbui_O",
        "colab": {
          "base_uri": "https://localhost:8080/"
        },
        "outputId": "53ca40e6-1f69-4443-c1c8-cdbba6abcb29"
      },
      "execution_count": 16,
      "outputs": [
        {
          "output_type": "stream",
          "name": "stdout",
          "text": [
            "Rating 0 - 30988\n",
            "Rating 1 - 28718\n",
            "Rating 2 - 72627\n",
            "Rating 3 - 188972\n",
            "Rating 4 - 313688\n",
            "Rating 5 - 265007\n"
          ]
        }
      ]
    },
    {
      "cell_type": "markdown",
      "source": [
        "## Очищаем данные"
      ],
      "metadata": {
        "id": "odCT7vCcvXSd"
      }
    },
    {
      "cell_type": "markdown",
      "source": [
        "* переводим текст в нижний регистр\n",
        "* удаляем ссылки, html-теги\n",
        "* убираем ненужные символы\n",
        "* ненужные повторяющиеся буквы в словах\n",
        "* убираем числа > 5\n",
        "* приводим слова к общему корню (lemmatization)\n",
        "* удаляем стоп-слова"
      ],
      "metadata": {
        "id": "KhA9V__Ry70w"
      }
    },
    {
      "cell_type": "code",
      "source": [
        "!pip install spacy==2.2.3\n",
        "!python -m spacy download en_core_web_sm\n",
        "!pip install beautifulsoup4==4.9.1\n",
        "!pip install textblob==0.15.3"
      ],
      "metadata": {
        "id": "aiTApFDWiCt8",
        "colab": {
          "base_uri": "https://localhost:8080/"
        },
        "outputId": "2e91a0d5-0e80-4fc6-cada-44698ec75cbe"
      },
      "execution_count": 17,
      "outputs": [
        {
          "output_type": "stream",
          "name": "stdout",
          "text": [
            "Looking in indexes: https://pypi.org/simple, https://us-python.pkg.dev/colab-wheels/public/simple/\n",
            "Collecting spacy==2.2.3\n",
            "  Using cached spacy-2.2.3.tar.gz (5.9 MB)\n",
            "  Installing build dependencies ... \u001b[?25l\u001b[?25hdone\n",
            "  \u001b[1;31merror\u001b[0m: \u001b[1msubprocess-exited-with-error\u001b[0m\n",
            "  \n",
            "  \u001b[31m×\u001b[0m \u001b[32mGetting requirements to build wheel\u001b[0m did not run successfully.\n",
            "  \u001b[31m│\u001b[0m exit code: \u001b[1;36m1\u001b[0m\n",
            "  \u001b[31m╰─>\u001b[0m See above for output.\n",
            "  \n",
            "  \u001b[1;35mnote\u001b[0m: This error originates from a subprocess, and is likely not a problem with pip.\n",
            "  Getting requirements to build wheel ... \u001b[?25l\u001b[?25herror\n",
            "\u001b[1;31merror\u001b[0m: \u001b[1msubprocess-exited-with-error\u001b[0m\n",
            "\n",
            "\u001b[31m×\u001b[0m \u001b[32mGetting requirements to build wheel\u001b[0m did not run successfully.\n",
            "\u001b[31m│\u001b[0m exit code: \u001b[1;36m1\u001b[0m\n",
            "\u001b[31m╰─>\u001b[0m See above for output.\n",
            "\n",
            "\u001b[1;35mnote\u001b[0m: This error originates from a subprocess, and is likely not a problem with pip.\n",
            "2023-05-23 10:37:34.860974: I tensorflow/core/platform/cpu_feature_guard.cc:182] This TensorFlow binary is optimized to use available CPU instructions in performance-critical operations.\n",
            "To enable the following instructions: AVX2 FMA, in other operations, rebuild TensorFlow with the appropriate compiler flags.\n",
            "2023-05-23 10:37:37.825526: W tensorflow/compiler/tf2tensorrt/utils/py_utils.cc:38] TF-TRT Warning: Could not find TensorRT\n",
            "Looking in indexes: https://pypi.org/simple, https://us-python.pkg.dev/colab-wheels/public/simple/\n",
            "Collecting en-core-web-sm==3.5.0\n",
            "  Downloading https://github.com/explosion/spacy-models/releases/download/en_core_web_sm-3.5.0/en_core_web_sm-3.5.0-py3-none-any.whl (12.8 MB)\n",
            "\u001b[2K     \u001b[90m━━━━━━━━━━━━━━━━━━━━━━━━━━━━━━━━━━━━━━━━\u001b[0m \u001b[32m12.8/12.8 MB\u001b[0m \u001b[31m26.3 MB/s\u001b[0m eta \u001b[36m0:00:00\u001b[0m\n",
            "\u001b[?25hRequirement already satisfied: spacy<3.6.0,>=3.5.0 in /usr/local/lib/python3.10/dist-packages (from en-core-web-sm==3.5.0) (3.5.2)\n",
            "Requirement already satisfied: spacy-legacy<3.1.0,>=3.0.11 in /usr/local/lib/python3.10/dist-packages (from spacy<3.6.0,>=3.5.0->en-core-web-sm==3.5.0) (3.0.12)\n",
            "Requirement already satisfied: spacy-loggers<2.0.0,>=1.0.0 in /usr/local/lib/python3.10/dist-packages (from spacy<3.6.0,>=3.5.0->en-core-web-sm==3.5.0) (1.0.4)\n",
            "Requirement already satisfied: murmurhash<1.1.0,>=0.28.0 in /usr/local/lib/python3.10/dist-packages (from spacy<3.6.0,>=3.5.0->en-core-web-sm==3.5.0) (1.0.9)\n",
            "Requirement already satisfied: cymem<2.1.0,>=2.0.2 in /usr/local/lib/python3.10/dist-packages (from spacy<3.6.0,>=3.5.0->en-core-web-sm==3.5.0) (2.0.7)\n",
            "Requirement already satisfied: preshed<3.1.0,>=3.0.2 in /usr/local/lib/python3.10/dist-packages (from spacy<3.6.0,>=3.5.0->en-core-web-sm==3.5.0) (3.0.8)\n",
            "Requirement already satisfied: thinc<8.2.0,>=8.1.8 in /usr/local/lib/python3.10/dist-packages (from spacy<3.6.0,>=3.5.0->en-core-web-sm==3.5.0) (8.1.9)\n",
            "Requirement already satisfied: wasabi<1.2.0,>=0.9.1 in /usr/local/lib/python3.10/dist-packages (from spacy<3.6.0,>=3.5.0->en-core-web-sm==3.5.0) (1.1.1)\n",
            "Requirement already satisfied: srsly<3.0.0,>=2.4.3 in /usr/local/lib/python3.10/dist-packages (from spacy<3.6.0,>=3.5.0->en-core-web-sm==3.5.0) (2.4.6)\n",
            "Requirement already satisfied: catalogue<2.1.0,>=2.0.6 in /usr/local/lib/python3.10/dist-packages (from spacy<3.6.0,>=3.5.0->en-core-web-sm==3.5.0) (2.0.8)\n",
            "Requirement already satisfied: typer<0.8.0,>=0.3.0 in /usr/local/lib/python3.10/dist-packages (from spacy<3.6.0,>=3.5.0->en-core-web-sm==3.5.0) (0.7.0)\n",
            "Requirement already satisfied: pathy>=0.10.0 in /usr/local/lib/python3.10/dist-packages (from spacy<3.6.0,>=3.5.0->en-core-web-sm==3.5.0) (0.10.1)\n",
            "Requirement already satisfied: smart-open<7.0.0,>=5.2.1 in /usr/local/lib/python3.10/dist-packages (from spacy<3.6.0,>=3.5.0->en-core-web-sm==3.5.0) (6.3.0)\n",
            "Requirement already satisfied: tqdm<5.0.0,>=4.38.0 in /usr/local/lib/python3.10/dist-packages (from spacy<3.6.0,>=3.5.0->en-core-web-sm==3.5.0) (4.65.0)\n",
            "Requirement already satisfied: numpy>=1.15.0 in /usr/local/lib/python3.10/dist-packages (from spacy<3.6.0,>=3.5.0->en-core-web-sm==3.5.0) (1.24.3)\n",
            "Requirement already satisfied: requests<3.0.0,>=2.13.0 in /usr/local/lib/python3.10/dist-packages (from spacy<3.6.0,>=3.5.0->en-core-web-sm==3.5.0) (2.27.1)\n",
            "Requirement already satisfied: pydantic!=1.8,!=1.8.1,<1.11.0,>=1.7.4 in /usr/local/lib/python3.10/dist-packages (from spacy<3.6.0,>=3.5.0->en-core-web-sm==3.5.0) (1.10.7)\n",
            "Requirement already satisfied: jinja2 in /usr/local/lib/python3.10/dist-packages (from spacy<3.6.0,>=3.5.0->en-core-web-sm==3.5.0) (3.1.2)\n",
            "Requirement already satisfied: setuptools in /usr/local/lib/python3.10/dist-packages (from spacy<3.6.0,>=3.5.0->en-core-web-sm==3.5.0) (67.7.2)\n",
            "Requirement already satisfied: packaging>=20.0 in /usr/local/lib/python3.10/dist-packages (from spacy<3.6.0,>=3.5.0->en-core-web-sm==3.5.0) (23.1)\n",
            "Requirement already satisfied: langcodes<4.0.0,>=3.2.0 in /usr/local/lib/python3.10/dist-packages (from spacy<3.6.0,>=3.5.0->en-core-web-sm==3.5.0) (3.3.0)\n",
            "Requirement already satisfied: typing-extensions>=4.2.0 in /usr/local/lib/python3.10/dist-packages (from pydantic!=1.8,!=1.8.1,<1.11.0,>=1.7.4->spacy<3.6.0,>=3.5.0->en-core-web-sm==3.5.0) (4.6.0)\n",
            "Requirement already satisfied: urllib3<1.27,>=1.21.1 in /usr/local/lib/python3.10/dist-packages (from requests<3.0.0,>=2.13.0->spacy<3.6.0,>=3.5.0->en-core-web-sm==3.5.0) (1.26.15)\n",
            "Requirement already satisfied: certifi>=2017.4.17 in /usr/local/lib/python3.10/dist-packages (from requests<3.0.0,>=2.13.0->spacy<3.6.0,>=3.5.0->en-core-web-sm==3.5.0) (2022.12.7)\n",
            "Requirement already satisfied: charset-normalizer~=2.0.0 in /usr/local/lib/python3.10/dist-packages (from requests<3.0.0,>=2.13.0->spacy<3.6.0,>=3.5.0->en-core-web-sm==3.5.0) (2.0.12)\n",
            "Requirement already satisfied: idna<4,>=2.5 in /usr/local/lib/python3.10/dist-packages (from requests<3.0.0,>=2.13.0->spacy<3.6.0,>=3.5.0->en-core-web-sm==3.5.0) (3.4)\n",
            "Requirement already satisfied: blis<0.8.0,>=0.7.8 in /usr/local/lib/python3.10/dist-packages (from thinc<8.2.0,>=8.1.8->spacy<3.6.0,>=3.5.0->en-core-web-sm==3.5.0) (0.7.9)\n",
            "Requirement already satisfied: confection<1.0.0,>=0.0.1 in /usr/local/lib/python3.10/dist-packages (from thinc<8.2.0,>=8.1.8->spacy<3.6.0,>=3.5.0->en-core-web-sm==3.5.0) (0.0.4)\n",
            "Requirement already satisfied: click<9.0.0,>=7.1.1 in /usr/local/lib/python3.10/dist-packages (from typer<0.8.0,>=0.3.0->spacy<3.6.0,>=3.5.0->en-core-web-sm==3.5.0) (8.1.3)\n",
            "Requirement already satisfied: MarkupSafe>=2.0 in /usr/local/lib/python3.10/dist-packages (from jinja2->spacy<3.6.0,>=3.5.0->en-core-web-sm==3.5.0) (2.1.2)\n",
            "\u001b[38;5;2m✔ Download and installation successful\u001b[0m\n",
            "You can now load the package via spacy.load('en_core_web_sm')\n",
            "Looking in indexes: https://pypi.org/simple, https://us-python.pkg.dev/colab-wheels/public/simple/\n",
            "Requirement already satisfied: beautifulsoup4==4.9.1 in /usr/local/lib/python3.10/dist-packages (4.9.1)\n",
            "Requirement already satisfied: soupsieve>1.2 in /usr/local/lib/python3.10/dist-packages (from beautifulsoup4==4.9.1) (2.4.1)\n",
            "Looking in indexes: https://pypi.org/simple, https://us-python.pkg.dev/colab-wheels/public/simple/\n",
            "Requirement already satisfied: textblob==0.15.3 in /usr/local/lib/python3.10/dist-packages (0.15.3)\n",
            "Requirement already satisfied: nltk>=3.1 in /usr/local/lib/python3.10/dist-packages (from textblob==0.15.3) (3.8.1)\n",
            "Requirement already satisfied: click in /usr/local/lib/python3.10/dist-packages (from nltk>=3.1->textblob==0.15.3) (8.1.3)\n",
            "Requirement already satisfied: joblib in /usr/local/lib/python3.10/dist-packages (from nltk>=3.1->textblob==0.15.3) (1.2.0)\n",
            "Requirement already satisfied: regex>=2021.8.3 in /usr/local/lib/python3.10/dist-packages (from nltk>=3.1->textblob==0.15.3) (2022.10.31)\n",
            "Requirement already satisfied: tqdm in /usr/local/lib/python3.10/dist-packages (from nltk>=3.1->textblob==0.15.3) (4.65.0)\n"
          ]
        }
      ]
    },
    {
      "cell_type": "code",
      "source": [
        "!pip install git+https://github.com/laxmimerit/preprocess_kgptalkie.git --upgrade --force-reinstall"
      ],
      "metadata": {
        "id": "ouo3HkTYvsOc",
        "colab": {
          "base_uri": "https://localhost:8080/"
        },
        "outputId": "7419652a-4645-4e93-c597-e9cebe6726ea"
      },
      "execution_count": 18,
      "outputs": [
        {
          "output_type": "stream",
          "name": "stdout",
          "text": [
            "Looking in indexes: https://pypi.org/simple, https://us-python.pkg.dev/colab-wheels/public/simple/\n",
            "Collecting git+https://github.com/laxmimerit/preprocess_kgptalkie.git\n",
            "  Cloning https://github.com/laxmimerit/preprocess_kgptalkie.git to /tmp/pip-req-build-fudmozt9\n",
            "  Running command git clone --filter=blob:none --quiet https://github.com/laxmimerit/preprocess_kgptalkie.git /tmp/pip-req-build-fudmozt9\n",
            "  Resolved https://github.com/laxmimerit/preprocess_kgptalkie.git to commit 9ca68d37027af9f6a30d54640347ce3b2e2694b3\n",
            "  Preparing metadata (setup.py) ... \u001b[?25l\u001b[?25hdone\n",
            "Building wheels for collected packages: preprocess-kgptalkie\n",
            "  Building wheel for preprocess-kgptalkie (setup.py) ... \u001b[?25l\u001b[?25hdone\n",
            "  Created wheel for preprocess-kgptalkie: filename=preprocess_kgptalkie-0.1.3-py3-none-any.whl size=7620 sha256=5c9b1ff2cbbdc5ab21187af048199c3a109750d06a53f3b787f9dd8f62926b39\n",
            "  Stored in directory: /tmp/pip-ephem-wheel-cache-v1zwvp9k/wheels/5c/94/34/99d5ff65e88b8d9a6c5e8d8652f2311d87790a61a1b7466e21\n",
            "Successfully built preprocess-kgptalkie\n",
            "Installing collected packages: preprocess-kgptalkie\n",
            "  Attempting uninstall: preprocess-kgptalkie\n",
            "    Found existing installation: preprocess-kgptalkie 0.1.3\n",
            "    Uninstalling preprocess-kgptalkie-0.1.3:\n",
            "      Successfully uninstalled preprocess-kgptalkie-0.1.3\n",
            "Successfully installed preprocess-kgptalkie-0.1.3\n"
          ]
        }
      ]
    },
    {
      "cell_type": "code",
      "source": [
        "import preprocess_kgptalkie as ps\n",
        "import re"
      ],
      "metadata": {
        "id": "cJ_ZeDFAxIHS"
      },
      "execution_count": 19,
      "outputs": []
    },
    {
      "cell_type": "code",
      "source": [
        "def to_lower(text):\n",
        "    return text.lower()\n",
        "\n",
        "train[\"review_text\"] = train[\"review_text\"].astype(str).apply(to_lower)\n",
        "train[\"review_text\"] = train[\"review_text\"].astype(str).apply(to_lower)"
      ],
      "metadata": {
        "id": "MAa7C0l1P23-"
      },
      "execution_count": 20,
      "outputs": []
    },
    {
      "cell_type": "code",
      "source": [
        "contraction_mapping = {\"it's\":\"it is\",\"it's\":\"it is\", \"its\": \"it is\",\"ain't\": \"not\", \"aren't\": \"are not\",\"can't\": \"can not\", 'cannot':'can not',\"'cause\": \"because\",\n",
        "        \"could've\": \"could have\", \"couldn't\": \"could not\", \"didn't\": \"did not\",\n",
        "        \"doesn't\": \"does not\", \"don't\": \"do not\", \"hadn't\": \"had not\", \"hasn't\": \"has not\",\n",
        "        \"haven't\": \"have not\", \"he'd\": \"he would\",\"he'll\": \"he will\", \"he's\": \"he is\", \n",
        "        \"how'd\": \"how did\", \"how'd'y\": \"how do you\", \"how'll\": \"how will\", \"how's\": \"how is\",\n",
        "        \"i'd\": \"i would\", \"i'd've\": \"i would have\", \"i'll\": \"i will\", \"i'll've\": \"i will have\",\n",
        "        \"i'm\": \"i am\", \"i've\": \"i have\", \"i'd\": \"i would\", \"i'd've\": \"i would have\", \"i'll\": \"i will\", \n",
        "        \"i'll've\": \"i will have\",\"i'm\": \"i am\", \"i've\": \"i have\", \"isn't\": \"is not\", \"it'd\": \"it would\",\n",
        "        \"it'd've\": \"it would have\", \"it'll\": \"it will\", \"it'll've\": \"it will have\",\"it's\": \"it is\",\n",
        "        \"let's\": \"let us\", \"ma'am\": \"madam\", \"mayn't\": \"may not\", \"might've\": \"might have\",\n",
        "        \"mightn't\": \"might not\",\"mightn't've\": \"might not have\", \"must've\": \"must have\", \n",
        "        \"mustn't\": \"must not\", \"mustn't've\": \"must not have\", \"needn't\": \"need not\", \n",
        "        \"needn't've\": \"need not have\",\"o'clock\": \"of the clock\", \"oughtn't\": \"ought not\", \n",
        "        \"oughtn't've\": \"ought not have\", \"shan't\": \"shall not\", \"sha'n't\": \"shall not\", \n",
        "        \"shan't've\": \"shall not have\", \"she'd\": \"she would\", \"she'd've\": \"she would have\", \n",
        "        \"she'll\": \"she will\", \"she'll've\": \"she will have\", \"she's\": \"she is\", \n",
        "        \"should've\": \"should have\", \"shouldn't\": \"should not\", \"shouldn't've\": \"should not have\", \n",
        "        \"so've\": \"so have\",\"so's\": \"so as\", \"this's\": \"this is\",\"that'd\": \"that would\", \"that'd've\": \n",
        "        \"that would have\", \"that's\": \"that is\", \"there'd\": \"there would\", \"there'd've\": \"there would have\", \n",
        "        \"there's\": \"there is\", \"here's\": \"here is\",\"they'd\": \"they would\", \"they'd've\": \"they would have\", \n",
        "        \"they'll\": \"they will\", \"they'll've\": \"they will have\", \"they're\": \"they are\", \"they've\": \"they have\",\n",
        "        \"to've\": \"to have\", \"wasn't\": \"was not\", \"we'd\": \"we would\", \"we'd've\": \"we would have\", \"we'll\": \"we will\",\n",
        "        \"we'll've\": \"we will have\", \"we're\": \"we are\", \"we've\": \"we have\", \"weren't\": \"were not\", \"what'll\": \"what will\",\n",
        "        \"what'll've\": \"what will have\", \"what're\": \"what are\",  \"what's\": \"what is\", \"what've\": \"what have\", \n",
        "        \"when's\": \"when is\", \"when've\": \"when have\", \"where'd\": \"where did\", \"where's\": \"where is\", \"where've\": \"where have\", \n",
        "        \"who'll\": \"who will\", \"who'll've\": \"who will have\", \"who's\": \"who is\", \"who've\": \"who have\", \"why's\": \"why is\", \n",
        "        \"why've\": \"why have\", \"will've\": \"will have\", \"won't\": \"will not\", \"won't've\": \"will not have\", \n",
        "        \"would've\": \"would have\", \"wouldn't\": \"would not\", \"wouldn't've\": \"would not have\", \"y'all\": \"you all\", \n",
        "        \"y'all'd\": \"you all would\",\"y'all'd've\": \"you all would have\",\"y'all're\": \"you all are\",\"y'all've\": \"you all have\",\n",
        "        \"you'd\": \"you would\", \"you'd've\": \"you would have\", \"you'll\": \"you will\", \"you'll've\": \"you will have\", \n",
        "        \"you're\": \"you are\", \"you've\": \"you have\" }"
      ],
      "metadata": {
        "id": "5yjSrj8sHvDG"
      },
      "execution_count": 21,
      "outputs": []
    },
    {
      "cell_type": "code",
      "source": [
        "def expandContractions(text):\n",
        "        updatedtext = \"\"\n",
        "        for word in text.split():\n",
        "            if word in contraction_mapping:\n",
        "                updatedtext += contraction_mapping[word] + \" \"\n",
        "            else:\n",
        "                updatedtext += word + \" \"\n",
        "                \n",
        "        return updatedtext[:-1]\n",
        "\n",
        "train[\"review_text\"] = train[\"review_text\"].astype(str).apply(expandContractions)\n",
        "test[\"review_text\"] = test[\"review_text\"].astype(str).apply(expandContractions)"
      ],
      "metadata": {
        "id": "_RoqOWkwH_tJ"
      },
      "execution_count": 22,
      "outputs": []
    },
    {
      "cell_type": "code",
      "source": [
        "def get_clean(x):\n",
        "    x = str(x).lower().replace('\\\\', '').replace('_', ' ') # transforming a string by making it lowercase, removing backslashes, and replacing underscores with space\n",
        "    x = re.sub(r\"n\\'t\", \" not\", x)\n",
        "    x = ps.remove_emails(x)\n",
        "    x = ps.remove_urls(x)\n",
        "    x = ps.remove_html_tags(x)\n",
        "    x = ps.remove_accented_chars(x) \n",
        "    x = ps.remove_special_chars(x) # a character that is not an alphabetic or numeric character\n",
        "    x = re.sub(\"(.)\\\\1{2,}\", \"\\\\1\", x) # to remove consecutive occurrences of a single character from a string\n",
        "    return x"
      ],
      "metadata": {
        "id": "i2xY83NOxMEv"
      },
      "execution_count": 23,
      "outputs": []
    },
    {
      "cell_type": "code",
      "source": [
        "train.review_text[0]"
      ],
      "metadata": {
        "colab": {
          "base_uri": "https://localhost:8080/",
          "height": 109
        },
        "id": "otyo1HxMsPhb",
        "outputId": "416c32dd-27ae-440c-c15d-aa5d42a991dc"
      },
      "execution_count": 24,
      "outputs": [
        {
          "output_type": "execute_result",
          "data": {
            "text/plain": [
              "'this is a special book. it started slow for about the first third, then in the middle third it started to get interesting, then the last third blew my mind. this is what i love about good science fiction - it pushes your thinking about where things can go. it is a 2015 hugo winner, and translated from it is original chinese, which made it interesting in just a different way from most things i have read. for instance the intermixing of chinese revolutionary history - how they kept accusing people of being \"reactionaries\", etc. it is a book about science, and aliens. the science described in the book is impressive - it is a book grounded in physics and pretty accurate as far as i could tell. (view spoiler)[though when it got to folding protons into 8 dimensions i think he was just making stuff up - interesting to think about though. but what would happen if our seti stations received a message - if we found someone was out there - and the person monitoring and answering the signal on our side was disillusioned? that part of the book was a bit dark - i would like to think human reaction to discovering alien civilization that is hostile would be more like enders game where we would band together. i did like how the book unveiled the trisolaran culture through the game. it was a smart way to build empathy with them and also understand what they have gone through across so many centuries. and who know a 3 body problem was an unsolvable math problem? but i still do not get who made the game - maybe that will come in the next book. i loved this quote: \"in the long history of scientific progress, how many protons have been smashed apart in accelerators by physicists? how many neutrons and electrons? probably no fewer than a hundred million. every collision was probably the end of the civilizations and intelligences in a microcosmos. in fact, even in nature, the destruction of universes must be happening at every second--for example, through the decay of neutrons. also, a high-energy cosmic ray entering the atmosphere may destroy thousands of such miniature universes....\" (hide spoiler)]'"
            ],
            "application/vnd.google.colaboratory.intrinsic+json": {
              "type": "string"
            }
          },
          "metadata": {},
          "execution_count": 24
        }
      ]
    },
    {
      "cell_type": "code",
      "source": [
        "test.review_text[0]"
      ],
      "metadata": {
        "colab": {
          "base_uri": "https://localhost:8080/",
          "height": 109
        },
        "id": "1cn_dz3MsWKH",
        "outputId": "f4717e02-3bf8-4051-97e2-72fbb9c49fc1"
      },
      "execution_count": 25,
      "outputs": [
        {
          "output_type": "execute_result",
          "data": {
            "text/plain": [
              "'** spoiler alert ** This is definitely one of my favorites among the \"food books\" I\\'ve read! I loved the characters (Raggedy Ann and Ken Carson included)! Even though Kayla is a pessimist (which I usually dislike in a character), her personality is the perfect formula in the story. Kayla is the school rebel, she wears unusual clothes, makes fun of the \"popular\" crowd in school, and she only have one friend in school---Nicole. Lately, things have been changing around her. Her mother barely talks to her and her best friend is dating her long-time crush Ben! On her disastrous 16th birthday party, she made a wish to make all her birthday wishes come true. The following day she wakes up with a pink pony on her backyard! The next day it was a room full of gumballs, and the next her Raggedy doll Ann was brought to life! She figured out that her birthday wishes are coming true and she have to find a way to stop it before her 15th birthday wish comes true---which is a kiss from Ben! I really had fun reading it. It reminded me a lot of my childhood and my silly wishes. I might have wished for a one year supply of chocolates or a new BMX bike before, LOL! Also, there are a lot hilarious events that occurred in the story. My favorite is definitely Ken\\'s dancing pecs! haha! The story ended abruptly though. I wish we found out what happened to Ann, Ken, the pony and the rest of her wishes...instead of Kayla waking up the following day with them gone. Overall it was a quick read. If you are looking for something light and fun, this is perfect for you!'"
            ],
            "application/vnd.google.colaboratory.intrinsic+json": {
              "type": "string"
            }
          },
          "metadata": {},
          "execution_count": 25
        }
      ]
    },
    {
      "cell_type": "code",
      "source": [
        "train['review_text'] = train['review_text'].apply(lambda x:get_clean(x))\n",
        "test['review_text'] = test['review_text'].apply(lambda x:get_clean(x))"
      ],
      "metadata": {
        "id": "QqtpubbDqJxZ"
      },
      "execution_count": 26,
      "outputs": []
    },
    {
      "cell_type": "code",
      "source": [
        "train.review_text[0]"
      ],
      "metadata": {
        "colab": {
          "base_uri": "https://localhost:8080/",
          "height": 109
        },
        "id": "uqE-yiHrssI9",
        "outputId": "c7ce1f09-7f60-4bd5-8f5e-eae587995697"
      },
      "execution_count": 27,
      "outputs": [
        {
          "output_type": "execute_result",
          "data": {
            "text/plain": [
              "'this is a special book it started slow for about the first third then in the middle third it started to get interesting then the last third blew my mind this is what i love about good science fiction it pushes your thinking about where things can go it is a 2015 hugo winner and translated from it is original chinese which made it interesting in just a different way from most things i have read for instance the intermixing of chinese revolutionary history how they kept accusing people of being reactionaries etc it is a book about science and aliens the science described in the book is impressive it is a book grounded in physics and pretty accurate as far as i could tell view spoilerthough when it got to folding protons into 8 dimensions i think he was just making stuff up interesting to think about though but what would happen if our seti stations received a message if we found someone was out there and the person monitoring and answering the signal on our side was disillusioned that part of the book was a bit dark i would like to think human reaction to discovering alien civilization that is hostile would be more like enders game where we would band together i did like how the book unveiled the trisolaran culture through the game it was a smart way to build empathy with them and also understand what they have gone through across so many centuries and who know a 3 body problem was an unsolvable math problem but i still do not get who made the game maybe that will come in the next book i loved this quote in the long history of scientific progress how many protons have been smashed apart in accelerators by physicists how many neutrons and electrons probably no fewer than a hundred million every collision was probably the end of the civilizations and intelligences in a microcosmos in fact even in nature the destruction of universes must be happening at every secondfor example through the decay of neutrons also a highenergy cosmic ray entering the atmosphere may destroy thousands of such miniature universes hide spoiler'"
            ],
            "application/vnd.google.colaboratory.intrinsic+json": {
              "type": "string"
            }
          },
          "metadata": {},
          "execution_count": 27
        }
      ]
    },
    {
      "cell_type": "code",
      "source": [
        "test.review_text[0]"
      ],
      "metadata": {
        "colab": {
          "base_uri": "https://localhost:8080/",
          "height": 109
        },
        "id": "uBcIDW0DstRA",
        "outputId": "308f9359-c61e-40d4-dd0c-f09aee36a83b"
      },
      "execution_count": 28,
      "outputs": [
        {
          "output_type": "execute_result",
          "data": {
            "text/plain": [
              "'spoiler alert this is definitely one of my favorites among the food books ive read i loved the characters raggedy ann and ken carson included even though kayla is a pessimist which i usually dislike in a character her personality is the perfect formula in the story kayla is the school rebel she wears unusual clothes makes fun of the popular crowd in school and she only have one friend in schoolnicole lately things have been changing around her her mother barely talks to her and her best friend is dating her longtime crush ben on her disastrous 16th birthday party she made a wish to make all her birthday wishes come true the following day she wakes up with a pink pony on her backyard the next day it was a room full of gumballs and the next her raggedy doll ann was brought to life she figured out that her birthday wishes are coming true and she have to find a way to stop it before her 15th birthday wish comes truewhich is a kiss from ben i really had fun reading it it reminded me a lot of my childhood and my silly wishes i might have wished for a one year supply of chocolates or a new bmx bike before lol also there are a lot hilarious events that occurred in the story my favorite is definitely kens dancing pecs haha the story ended abruptly though i wish we found out what happened to ann ken the pony and the rest of her wishesinstead of kayla waking up the following day with them gone overall it was a quick read if you are looking for something light and fun this is perfect for you'"
            ],
            "application/vnd.google.colaboratory.intrinsic+json": {
              "type": "string"
            }
          },
          "metadata": {},
          "execution_count": 28
        }
      ]
    },
    {
      "cell_type": "markdown",
      "source": [
        "### Lemmatization\n",
        "(в последнмх вариантах пропустила лемматизацию из-за очень долгого выполнения)\n"
      ],
      "metadata": {
        "id": "AvJsHZnb-Uwp"
      }
    },
    {
      "cell_type": "code",
      "source": [
        "from google.colab import drive\n",
        "drive.mount('/content/drive')"
      ],
      "metadata": {
        "colab": {
          "base_uri": "https://localhost:8080/"
        },
        "id": "Y5joFbEcarCN",
        "outputId": "a0b9cfc3-2510-45cd-c767-e854cce64fc1"
      },
      "execution_count": 29,
      "outputs": [
        {
          "output_type": "stream",
          "name": "stdout",
          "text": [
            "Drive already mounted at /content/drive; to attempt to forcibly remount, call drive.mount(\"/content/drive\", force_remount=True).\n"
          ]
        }
      ]
    },
    {
      "cell_type": "code",
      "source": [
        "import spacy\n",
        "nlp = spacy.load('en_core_web_sm')"
      ],
      "metadata": {
        "id": "1kbYpiiE-Y04"
      },
      "execution_count": 30,
      "outputs": []
    },
    {
      "cell_type": "code",
      "source": [
        "# import pandas as pd\n",
        "# import numpy as np\n",
        "# train = pd.read_csv('/content/drive/MyDrive/goodreads_train_preprocessed_cleaned_0.csv')\n",
        "# test = pd.read_csv('/content/drive/MyDrive/goodreads_test_preprocessed_cleaned_0.csv')\n",
        "# train.head()"
      ],
      "metadata": {
        "id": "qFHyUADraZhK"
      },
      "execution_count": 31,
      "outputs": []
    },
    {
      "cell_type": "markdown",
      "source": [
        "### Убираем stopwords"
      ],
      "metadata": {
        "id": "9npqChXi0XEx"
      }
    },
    {
      "cell_type": "code",
      "source": [
        "# import nltk\n",
        "# from nltk.corpus import stopwords\n",
        "\n",
        "# nltk.download('stopwords')\n",
        "\n",
        "# stop_words = list(stopwords.words('english'))\n",
        "# stop_words"
      ],
      "metadata": {
        "id": "SbeuXjMw0aJ3"
      },
      "execution_count": 32,
      "outputs": []
    },
    {
      "cell_type": "code",
      "source": [
        "# stop_words.remove(\"no\")\n",
        "# stop_words.remove(\"not\")\n",
        "\n",
        "# stop_words.append(\"spoiler\")\n",
        "# stop_words.append(\"hide\")\n",
        "# stop_words.append(\"view\")\n",
        "# stop_words.append(\"alert\")\n",
        "# stop_words.append(\"book\")\n",
        "# stop_words.append(\"read\")\n",
        "# # stop_words.append(\"star\")\n",
        "# stop_words.append(\"coffee\")\n",
        "# stop_words.append(\"name\")\n",
        "# stop_words.append(\"friend\")\n",
        "# stop_words.append(\"character\")\n",
        "# stop_words.append(\"object\")\n",
        "# stop_words.append(\"thing\")\n",
        "# stop_words.append(\"review\")\n",
        "# stop_words.append(\"think\")\n",
        "# stop_words.append(\"fiction\")\n",
        "# stop_words.append(\"thriller\")\n",
        "# stop_words.append(\"adult\")\n",
        "# stop_words.append(\"child\")\n",
        "# stop_words.append(\"free\")\n",
        "# stop_words.append(\"author\")\n",
        "# stop_words.append(\"travel\")\n",
        "# stop_words.append(\"start\")\n",
        "# stop_words.append(\"finish\")\n",
        "# stop_words.append(\"update\")\n",
        "# stop_words.append(\"plot\")\n",
        "# stop_words.append(\"story\")\n"
      ],
      "metadata": {
        "id": "J50W5P7X2jIs"
      },
      "execution_count": 33,
      "outputs": []
    },
    {
      "cell_type": "code",
      "source": [
        "# len(stop_words)"
      ],
      "metadata": {
        "id": "MSL2A9wAANlH"
      },
      "execution_count": 34,
      "outputs": []
    },
    {
      "cell_type": "code",
      "source": [
        "# train[\"review_text\"] = train[\"review_text\"].apply(lambda x: ' '.join([word for word in x.split() if word not in stop_words]))\n",
        "# test[\"review_text\"] = test[\"review_text\"].apply(lambda x: ' '.join([word for word in x.split() if word not in stop_words]))"
      ],
      "metadata": {
        "id": "skR632Ay6qUw"
      },
      "execution_count": 35,
      "outputs": []
    },
    {
      "cell_type": "code",
      "source": [
        "stop = {'a', 'the', 'www', 'http', 'https', 'com'}\n",
        "\n",
        "def remove_stopwords(text):\n",
        "    return ' '.join([word for word in text.split() if word not in stop])\n",
        "\n",
        "train[\"review_text\"] = train[\"review_text\"].apply(remove_stopwords)\n",
        "test[\"review_text\"] = test[\"review_text\"].apply(remove_stopwords)"
      ],
      "metadata": {
        "id": "-qLgj5Z4JVsz"
      },
      "execution_count": 36,
      "outputs": []
    },
    {
      "cell_type": "markdown",
      "source": [
        "### Сохраним промежуточные данные"
      ],
      "metadata": {
        "id": "BN-1QjTC-3hP"
      }
    },
    {
      "cell_type": "code",
      "source": [
        "# train.to_csv('/content/drive/MyDrive/goodreads_train_preprocessed_cleaned.csv', index=False) \n",
        "# test.to_csv('/content/drive/MyDrive/goodreads_train_preprocessed_cleaned.csv', index=False) "
      ],
      "metadata": {
        "id": "ZOinjpJ3-xMj"
      },
      "execution_count": 37,
      "outputs": []
    },
    {
      "cell_type": "markdown",
      "source": [
        "###Определение модели"
      ],
      "metadata": {
        "id": "Plduz68gOJzF"
      }
    },
    {
      "cell_type": "code",
      "source": [
        "import tensorflow as tf"
      ],
      "metadata": {
        "id": "4yHQHYBqNjlx"
      },
      "execution_count": 38,
      "outputs": []
    },
    {
      "cell_type": "code",
      "source": [
        "try:\n",
        "    tpu = tf.distribute.cluster_resolver.TPUClusterResolver()\n",
        "    tf.config.experimental_connect_to_cluster(tpu)\n",
        "    tf.tpu.experimental.initialize_tpu_system(tpu)\n",
        "    strategy = tf.distribute.experimental.TPUStrategy(tpu)\n",
        "    print('Running on TPU ', tpu.master())\n",
        "except ValueError:\n",
        "    strategy = tf.distribute.get_strategy()\n",
        "\n",
        "print('Number of replicas:', strategy.num_replicas_in_sync)"
      ],
      "metadata": {
        "colab": {
          "base_uri": "https://localhost:8080/"
        },
        "id": "TbrQHpm6NZbG",
        "outputId": "d40fa58d-e894-4036-ef69-ac23c9922d05"
      },
      "execution_count": 39,
      "outputs": [
        {
          "output_type": "stream",
          "name": "stderr",
          "text": [
            "WARNING:absl:`tf.distribute.experimental.TPUStrategy` is deprecated, please use  the non experimental symbol `tf.distribute.TPUStrategy` instead.\n"
          ]
        },
        {
          "output_type": "stream",
          "name": "stdout",
          "text": [
            "Running on TPU  grpc://10.59.116.154:8470\n",
            "Number of replicas: 8\n"
          ]
        }
      ]
    },
    {
      "cell_type": "code",
      "source": [
        "!pip install transformers"
      ],
      "metadata": {
        "colab": {
          "base_uri": "https://localhost:8080/"
        },
        "id": "SV-qht_nQvaQ",
        "outputId": "5549496b-dc64-46dd-81ff-297a9f206799"
      },
      "execution_count": 40,
      "outputs": [
        {
          "output_type": "stream",
          "name": "stdout",
          "text": [
            "Looking in indexes: https://pypi.org/simple, https://us-python.pkg.dev/colab-wheels/public/simple/\n",
            "Requirement already satisfied: transformers in /usr/local/lib/python3.10/dist-packages (4.29.2)\n",
            "Requirement already satisfied: filelock in /usr/local/lib/python3.10/dist-packages (from transformers) (3.12.0)\n",
            "Requirement already satisfied: huggingface-hub<1.0,>=0.14.1 in /usr/local/lib/python3.10/dist-packages (from transformers) (0.14.1)\n",
            "Requirement already satisfied: numpy>=1.17 in /usr/local/lib/python3.10/dist-packages (from transformers) (1.24.3)\n",
            "Requirement already satisfied: packaging>=20.0 in /usr/local/lib/python3.10/dist-packages (from transformers) (23.1)\n",
            "Requirement already satisfied: pyyaml>=5.1 in /usr/local/lib/python3.10/dist-packages (from transformers) (6.0)\n",
            "Requirement already satisfied: regex!=2019.12.17 in /usr/local/lib/python3.10/dist-packages (from transformers) (2022.10.31)\n",
            "Requirement already satisfied: requests in /usr/local/lib/python3.10/dist-packages (from transformers) (2.27.1)\n",
            "Requirement already satisfied: tokenizers!=0.11.3,<0.14,>=0.11.1 in /usr/local/lib/python3.10/dist-packages (from transformers) (0.13.3)\n",
            "Requirement already satisfied: tqdm>=4.27 in /usr/local/lib/python3.10/dist-packages (from transformers) (4.65.0)\n",
            "Requirement already satisfied: fsspec in /usr/local/lib/python3.10/dist-packages (from huggingface-hub<1.0,>=0.14.1->transformers) (2023.4.0)\n",
            "Requirement already satisfied: typing-extensions>=3.7.4.3 in /usr/local/lib/python3.10/dist-packages (from huggingface-hub<1.0,>=0.14.1->transformers) (4.6.0)\n",
            "Requirement already satisfied: urllib3<1.27,>=1.21.1 in /usr/local/lib/python3.10/dist-packages (from requests->transformers) (1.26.15)\n",
            "Requirement already satisfied: certifi>=2017.4.17 in /usr/local/lib/python3.10/dist-packages (from requests->transformers) (2022.12.7)\n",
            "Requirement already satisfied: charset-normalizer~=2.0.0 in /usr/local/lib/python3.10/dist-packages (from requests->transformers) (2.0.12)\n",
            "Requirement already satisfied: idna<4,>=2.5 in /usr/local/lib/python3.10/dist-packages (from requests->transformers) (3.4)\n"
          ]
        }
      ]
    },
    {
      "cell_type": "code",
      "source": [
        "from transformers import TFAutoModel, AutoTokenizer\n",
        "\n",
        "roberta_model = 'xlm-roberta-base'\n",
        "tokenizer = AutoTokenizer.from_pretrained(roberta_model)"
      ],
      "metadata": {
        "id": "ErEJp00pJLIj"
      },
      "execution_count": 41,
      "outputs": []
    },
    {
      "cell_type": "code",
      "source": [
        "MAX_LEN = 128\n"
      ],
      "metadata": {
        "id": "JT3W1Jx_Q4bz"
      },
      "execution_count": 42,
      "outputs": []
    },
    {
      "cell_type": "code",
      "source": [
        "train_tokens = [tokenizer(item, \n",
        "                    max_length = MAX_LEN, \n",
        "                    padding = 'max_length', \n",
        "                    truncation = True, \n",
        "                    return_tensors = 'np')['input_ids'].reshape(MAX_LEN)\n",
        "                    for _, item in train.review_text.items()]"
      ],
      "metadata": {
        "id": "ry8lSZZTREWK"
      },
      "execution_count": 43,
      "outputs": []
    },
    {
      "cell_type": "code",
      "source": [
        "test_tokens = [tokenizer(item, \n",
        "                    max_length = MAX_LEN, \n",
        "                    padding = 'max_length', \n",
        "                    truncation = True, \n",
        "                    return_tensors = 'np')['input_ids'].reshape(MAX_LEN)\n",
        "              for _, item in test.review_text.items()]"
      ],
      "metadata": {
        "id": "zjU7jHPMRMNq"
      },
      "execution_count": 44,
      "outputs": []
    },
    {
      "cell_type": "code",
      "source": [
        "from tensorflow.keras.utils import to_categorical\n",
        "\n",
        "y = to_categorical(train['rating'])\n",
        "y.shape"
      ],
      "metadata": {
        "colab": {
          "base_uri": "https://localhost:8080/"
        },
        "id": "dTzWsNXoPInx",
        "outputId": "0f3d4457-47ae-4f22-f282-19395d826d59"
      },
      "execution_count": 45,
      "outputs": [
        {
          "output_type": "execute_result",
          "data": {
            "text/plain": [
              "(900000, 6)"
            ]
          },
          "metadata": {},
          "execution_count": 45
        }
      ]
    },
    {
      "cell_type": "code",
      "source": [
        "import tensorflow as tf\n",
        "from transformers import TFRobertaModel\n",
        "from tensorflow.keras.layers import Dense, Dropout\n",
        "from tensorflow.keras.optimizers import Adam\n",
        "from tensorflow.keras import regularizers\n",
        "\n",
        "with strategy.scope():\n",
        "\n",
        "    input_ids = tf.keras.Input(shape=(MAX_LEN,), dtype=tf.int32)\n",
        "\n",
        "    encoder = TFRobertaModel.from_pretrained(roberta_model)\n",
        "    embedding = encoder(input_ids)[0]\n",
        "    \n",
        "    # lstm_output = LSTM(128)(embedding)\n",
        "    # lstm_output = Dropout(0.3)(lstm_output)\n",
        "\n",
        "    dropout_output = Dropout(0.3)(embedding)\n",
        "\n",
        "    dense_output = Dense(64, activation='relu')(dropout_output)\n",
        "    dense_output = Dropout(0.3)(dense_output)\n",
        "    dense_output = Dense(32, activation='relu')(dense_output)\n",
        "    dense_output = Dropout(0.3)(dense_output)\n",
        "    output = Dense(y.shape[1], activation='softmax')(dense_output)\n",
        "\n",
        "    model = tf.keras.Model(inputs=input_ids, outputs=output)\n",
        "\n",
        "    optimizer = Adam(learning_rate=1e-5)\n",
        "    loss = 'categorical_crossentropy'\n",
        "    metrics = ['accuracy']\n",
        "    model.compile(optimizer=optimizer, loss=loss, metrics=metrics)\n",
        "\n",
        "model.summary()\n"
      ],
      "metadata": {
        "colab": {
          "base_uri": "https://localhost:8080/"
        },
        "id": "nautkPWPOdR4",
        "outputId": "f55be5e8-e7da-424c-88cf-b137c049b895"
      },
      "execution_count": null,
      "outputs": [
        {
          "output_type": "stream",
          "name": "stderr",
          "text": [
            "You are using a model of type xlm-roberta to instantiate a model of type roberta. This is not supported for all configurations of models and can yield errors.\n"
          ]
        }
      ]
    },
    {
      "cell_type": "code",
      "source": [
        "from tensorflow.keras.callbacks import EarlyStopping, ReduceLROnPlateau\n",
        "\n",
        "early_stop = EarlyStopping(patience = 5, restore_best_weights = True, verbose = 1)\n",
        "reduce_lr = ReduceLROnPlateau(factor = 0.1, patience = 2, mode = 'min', verbose = 1)"
      ],
      "metadata": {
        "id": "QMo487vZSPlb"
      },
      "execution_count": null,
      "outputs": []
    },
    {
      "cell_type": "code",
      "source": [
        "history = model.fit(np.asarray(train_tokens), \n",
        "                    y, \n",
        "                    epochs = 10,\n",
        "                    verbose = 1,\n",
        "                    validation_split = 0.15,\n",
        "                    batch_size = 64 * strategy.num_replicas_in_sync,\n",
        "                    callbacks = [reduce_lr, early_stop])"
      ],
      "metadata": {
        "id": "w58ojPFMSUgQ"
      },
      "execution_count": null,
      "outputs": []
    },
    {
      "cell_type": "code",
      "source": [
        "submission = pd.DataFrame()\n",
        "submission['review_id'] = test.review_id\n",
        "submission['rating'] = [np.argmax(i) for i in model.predict(np.asarray(test_tokens))]"
      ],
      "metadata": {
        "id": "yeBmnTKgXw1I"
      },
      "execution_count": null,
      "outputs": []
    },
    {
      "cell_type": "code",
      "source": [
        "submission.to_csv(\"submission.csv\", index = False)"
      ],
      "metadata": {
        "id": "nUjV_YE4Zn4K"
      },
      "execution_count": null,
      "outputs": []
    }
  ]
}